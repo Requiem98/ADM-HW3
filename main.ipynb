{
 "cells": [
  {
   "cell_type": "code",
   "execution_count": null,
   "id": "3d69fec4-9e45-4137-85cb-fd13711c0bfc",
   "metadata": {},
   "outputs": [],
   "source": [
    "import functions as f"
   ]
  },
  {
   "cell_type": "markdown",
   "id": "ad80f3d3-09a0-4fbb-9df3-0d1bc9234fa9",
   "metadata": {},
   "source": [
    "# INTRO"
   ]
  },
  {
   "cell_type": "markdown",
   "id": "6e793c9c-d345-4005-9306-675a34cf25aa",
   "metadata": {},
   "source": [
    "Get urls from MyAnimeList"
   ]
  },
  {
   "cell_type": "code",
   "execution_count": null,
   "id": "f45df59d-882a-4106-809a-3709a37ee11c",
   "metadata": {},
   "outputs": [],
   "source": [
    "pages = f.initGet(1)"
   ]
  },
  {
   "cell_type": "markdown",
   "id": "914a2c4e-405e-4724-b471-85e5fa9e19cd",
   "metadata": {},
   "source": [
    "Download html from urls"
   ]
  },
  {
   "cell_type": "code",
   "execution_count": null,
   "id": "ba0aa90d-8b83-4d34-8875-aeba74b8c848",
   "metadata": {},
   "outputs": [],
   "source": [
    "f.getAnime(pages, start=0)"
   ]
  },
  {
   "cell_type": "markdown",
   "id": "36743225-f202-4cee-9f51-c52b5e24f86c",
   "metadata": {},
   "source": [
    "An example of an html file"
   ]
  },
  {
   "cell_type": "code",
   "execution_count": null,
   "id": "94c1447a-b670-4a12-b411-782d4f8d6ec2",
   "metadata": {},
   "outputs": [],
   "source": [
    "animePath = \"./animeList_pages/230th_page/article_11452.html\""
   ]
  },
  {
   "cell_type": "markdown",
   "id": "e4aa4c87-9852-452d-b21f-89813d10dfce",
   "metadata": {},
   "source": [
    "Scraping and Parsing data from html file"
   ]
  },
  {
   "cell_type": "code",
   "execution_count": null,
   "id": "49e1e71d-6619-4073-a821-36174300c4fa",
   "metadata": {},
   "outputs": [],
   "source": [
    "f.getDataFromPage(animePath)"
   ]
  },
  {
   "cell_type": "markdown",
   "id": "5b1b0b2c-15a5-4b39-9f62-43f830ae7ca2",
   "metadata": {},
   "source": [
    "Write all the data in a file tsv"
   ]
  },
  {
   "cell_type": "code",
   "execution_count": null,
   "id": "f9e2e073-85a7-43ef-bbe2-d4b2402655bd",
   "metadata": {},
   "outputs": [],
   "source": [
    "f.write_anime_tsv(animepath)"
   ]
  },
  {
   "cell_type": "markdown",
   "id": "0bbeb134-e164-4b3b-9b0c-3d405a65148a",
   "metadata": {},
   "source": [
    "Do this operation for all the html files stored"
   ]
  },
  {
   "cell_type": "code",
   "execution_count": null,
   "id": "ba48f4e3-453d-49aa-b12f-6cc2deb38890",
   "metadata": {},
   "outputs": [],
   "source": [
    "f.write_all_anime_tsv()"
   ]
  }
 ],
 "metadata": {
  "kernelspec": {
   "display_name": "Python 3",
   "language": "python",
   "name": "python3"
  },
  "language_info": {
   "codemirror_mode": {
    "name": "ipython",
    "version": 3
   },
   "file_extension": ".py",
   "mimetype": "text/x-python",
   "name": "python",
   "nbconvert_exporter": "python",
   "pygments_lexer": "ipython3",
   "version": "3.8.8"
  }
 },
 "nbformat": 4,
 "nbformat_minor": 5
}
