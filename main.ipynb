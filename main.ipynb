{
 "cells": [
  {
   "cell_type": "code",
   "execution_count": 1,
   "id": "3d69fec4-9e45-4137-85cb-fd13711c0bfc",
   "metadata": {},
   "outputs": [],
   "source": [
    "import functions as f"
   ]
  },
  {
   "cell_type": "markdown",
   "id": "3b1b4d9f",
   "metadata": {},
   "source": [
    "# Intro: required files\n"
   ]
  },
  {
   "cell_type": "markdown",
   "id": "c5204123",
   "metadata": {},
   "source": [
    "We created a function which generates all the files required in order to let the all the three search engines work properly. This function is called `initialize_file_for_search_engine()`"
   ]
  },
  {
   "cell_type": "markdown",
   "id": "6c3f9851-af6b-4996-91b2-3381825ef1c1",
   "metadata": {},
   "source": [
    "```\n",
    "def initialize_file_for_search_engine():\n",
    "\n",
    "    print(\"Starting creating the tsv files...\")\n",
    "    write_all_anime_tsv()\n",
    "    print(\"tsv files created\")\n",
    "    \n",
    "    \n",
    "    print(\"Starting creating the database...\")\n",
    "    make_dataframe()\n",
    "    print(\"database created\")\n",
    "    \n",
    "    \n",
    "    print(\"Starting creating the inverted index...\")\n",
    "    make_inverted_index()\n",
    "    print(\"Inverted index created\")\n",
    "    \n",
    "    \n",
    "    print(\"Starting creating the inverted index with names...\")\n",
    "    make_inverted_index_with_names()\n",
    "    print(\"Inverted index created\")\n",
    "    \n",
    "    \n",
    "    print(\"Starting creating the vocabolary of every word per document...\")\n",
    "    make_vocabulary_of_every_word_in_doc()\n",
    "    print(\"Vocabolary created\")\n",
    "    \n",
    "    \n",
    "    print(\"Starting creating the vocabolary of every word per document with names...\")\n",
    "    make_vocabulary_of_every_word_in_doc_with_names()\n",
    "    print(\"Vocabolary created\")\n",
    "    \n",
    "    \n",
    "    print(\"Starting created the list of tokenized synopsis...\")\n",
    "    processed_synopsis()\n",
    "    print(\"Tokenized synipsis created\")\n",
    "    \n",
    "    \n",
    "    print(\"Starting created the list of tokenized synopsis and names...\")\n",
    "    processed_synopsis_and_names()\n",
    "    print(\"Tokenized synipsis created\")\n",
    "    \n",
    "    \n",
    "    print(\"Starting creating the vocabulary...\")\n",
    "    make_vocabulary()\n",
    "    print(\"Vocabulary created\")\n",
    "    \n",
    "    \n",
    "    print(\"Starting creating the inverted index with TFIDF score...\")\n",
    "    make_inverted_index_tfidf()\n",
    "    print(\"Inverted index created\")\n",
    "    \n",
    "    \n",
    "    print(\"Starting creating the inverted index with TFIDF score (with names)...\")\n",
    "    make_inverted_index_tfidf_with_names()\n",
    "    print(\"Inverted index created\")\n",
    "    \n",
    "    \n",
    "    print(\"Starting creating the bags of words...\")\n",
    "    make_bagOfWords()\n",
    "    print(\"Bags of words created\")\n",
    "    \n",
    "    \n",
    "    print(\"Startng processing the dataset columns...\")\n",
    "    preprocess_dataset_columns()\n",
    "    print(\"Columns processed\")\n",
    "    \n",
    "    print(\"All operation done.\")\n",
    "```"
   ]
  },
  {
   "cell_type": "markdown",
   "id": "59097a89",
   "metadata": {},
   "source": [
    "The first function called is `write_all_anime_tsv()`. This function does the same operation of `write_anime_tsv(animePath)` itereted through all the anime's `html` files stored in the folder.\n",
    "\n",
    "The second function called is `make_dataframe()`. This function creates a dataframe object and stores it in a `csv` file. The dataframe object is created taking all the data of each anime from every single `tsv` file stored.\n",
    "\n",
    "The third function is `make_inverted_index()`. This function creates the first inverted index required by the homework. \n",
    "\n",
    "The fourth function is `make_inverted_index_with_names()`. This function creates an inverted index considering not only the words in the description but also the words in the title of each anime.\n",
    "\n",
    "The fifth function is `make_vocabulary_of_every_word_in_doc()`. This function creates a vocabulary file of each word per document. That means that a word can occur one time per every document.\n",
    "\n",
    "\n",
    "The sixth function is `make_vocabulary_of_every_word_in_doc_with_names()`. This function does the same work of the previous one but considering also the anime titles.\n",
    "\n",
    "The seventh function is `processed_synopsis()`. This function creates a binary file containing a list of preprocessed synopsis.\n",
    "\n",
    "The eight function is `processed_synopsis_and_names()`. This function does the same work of the previous one but considering also the anime titles.\n",
    "\n",
    "The nineth function is `make_vocabulary()`. This function creates the vocabulary required by the homework (Every word contained in every synopsis).\n",
    "\n",
    "The tenth functions is `make_inverted_index_tfidf()`. This function creates an inverted index considering also the frequency of occurance of every word, computed by the tfidf algorithm.\n",
    "\n",
    "The eleventh funcion is `make_inverted_index_tfidf_with_names()`. This function does the same work of the previous one but considering also the anime titles.\n",
    "\n",
    "The twelfth function is `make_bagOfWords()`. This function creates a file for each document containing an array. The array is a term vector. Each term is a component of the vector. The value of each component is the number of times the corrisponding term occurs in the document computed with tfidf formula.\n",
    "\n",
    "The last function is `preprocess_dataset_columns()`. This function creates three binary files.\n",
    "The first file contains an ordered dictionary in the form of key = doc_index, value = set of word in title.\n",
    "The second file contains an ordered dictionary in the form of key = doc_index, value = preprocessed type of anime.\n",
    "The third file contains an ordere dictionari in the form of key = doc_index, value = popularity.\n",
    "\n",
    "\n",
    "\n",
    "\n",
    "\n",
    "\n",
    "\n"
   ]
  },
  {
   "cell_type": "markdown",
   "id": "815a3f11",
   "metadata": {},
   "source": [
    "# 1 Data Collection"
   ]
  },
  {
   "cell_type": "markdown",
   "id": "1b29dd58",
   "metadata": {},
   "source": [
    "## 1.1 Get the list of animes"
   ]
  },
  {
   "cell_type": "markdown",
   "id": "6e793c9c-d345-4005-9306-675a34cf25aa",
   "metadata": {},
   "source": [
    "In order to get urls from MyAnimeList, we used the function `initGet()'`. This function gets the urls of all the anime in the first 400 pages of MyAnimeList and write them in a file called `\"urls_anime.txt\"`."
   ]
  },
  {
   "cell_type": "code",
   "execution_count": null,
   "id": "f45df59d-882a-4106-809a-3709a37ee11c",
   "metadata": {},
   "outputs": [],
   "source": [
    "pages = f.initGet()"
   ]
  },
  {
   "cell_type": "markdown",
   "id": "8226517e",
   "metadata": {},
   "source": [
    "# 1.2 Crawl animes"
   ]
  },
  {
   "cell_type": "markdown",
   "id": "914a2c4e-405e-4724-b471-85e5fa9e19cd",
   "metadata": {},
   "source": [
    "In order to download `html` frum urls we used the function `get anime()`. This function save all the `html` in a folder called `animeList_pages`. This folder is organized in subfolder: `1th_page`, `2th_page`, `3th_page`, and so on.\n",
    "Each folder contains all the anime's `html` of the choosen page.\n"
   ]
  },
  {
   "cell_type": "code",
   "execution_count": null,
   "id": "ba0aa90d-8b83-4d34-8875-aeba74b8c848",
   "metadata": {},
   "outputs": [],
   "source": [
    "f.getAnime(pages, start=0)"
   ]
  },
  {
   "cell_type": "markdown",
   "id": "36743225-f202-4cee-9f51-c52b5e24f86c",
   "metadata": {},
   "source": [
    "Let's see an example of one of the `html` pages!"
   ]
  },
  {
   "cell_type": "code",
   "execution_count": 3,
   "id": "94c1447a-b670-4a12-b411-782d4f8d6ec2",
   "metadata": {},
   "outputs": [],
   "source": [
    "animePath = \"./animeList_pages/1th_page/article_1.html\""
   ]
  },
  {
   "cell_type": "markdown",
   "id": "e4aa4c87-9852-452d-b21f-89813d10dfce",
   "metadata": {},
   "source": [
    "# 1.3 Parse downloaded pages\n",
    "Now we want to scrap and pars the data from the `html` pages that we've downloaded before.\n",
    "\n",
    "We start scraping and parsing the data from the example of `html` pages choosen in the cell above.\n",
    "\n",
    "In order to scrap and pars the data from the `html` page we use the function `getDataFromPage(animepath)`. This function get all the information desired.\n"
   ]
  },
  {
   "cell_type": "code",
   "execution_count": 4,
   "id": "49e1e71d-6619-4073-a821-36174300c4fa",
   "metadata": {},
   "outputs": [
    {
     "data": {
      "text/plain": [
       "OrderedDict([('Type', 'TV'),\n",
       "             ('Episodes', 64),\n",
       "             ('releasedDate', datetime.date(2009, 4, 5)),\n",
       "             ('endDate', datetime.date(2010, 7, 4)),\n",
       "             ('Members', 2682520),\n",
       "             ('Users', 1629051),\n",
       "             ('Score', 9.161),\n",
       "             ('Ranked', 1),\n",
       "             ('Popularity', 3),\n",
       "             ('Name', 'Fullmetal Alchemist: Brotherhood'),\n",
       "             ('Synopsis',\n",
       "              'After a horrific alchemy experiment goes wrong in the Elric household, brothers Edward and Alphonse are left in a catastrophic new reality. Ignoring the alchemical principle banning human transmutation, the boys attempted to bring their recently deceased mother back to life. Instead, they suffered brutal personal loss: Alphonse\\'s body disintegrated while Edward lost a leg and then sacrificed an arm to keep Alphonse\\'s soul in the physical realm by binding it to a hulking suit of armor.  The brothers are rescued by their neighbor Pinako Rockbell and her granddaughter Winry. Known as a bio-mechanical engineering prodigy, Winry creates prosthetic limbs for Edward by utilizing \"automail,\" a tough, versatile metal used in robots and combat armor. After years of training, the Elric brothers set off on a quest to restore their bodies by locating the Philosopher\\'s Stone—a powerful gem that allows an alchemist to defy the traditional laws of Equivalent Exchange.  As Edward becomes an infamous alchemist and gains the nickname \"Fullmetal,\" the boys\\' journey embroils them in a growing conspiracy that threatens the fate of the world.  [Written by MAL Rewrite]'),\n",
       "             ('Related_Anime',\n",
       "              ['Fullmetal Alchemist',\n",
       "               'Fullmetal Alchemist: The Sacred Star of Milos',\n",
       "               'Fullmetal Alchemist: Brotherhood - 4-Koma Theater',\n",
       "               'Fullmetal Alchemist: Brotherhood Specials']),\n",
       "             ('Characters',\n",
       "              ['Elric, Edward',\n",
       "               'Elric, Alphonse',\n",
       "               'Mustang, Roy',\n",
       "               'Hughes, Maes',\n",
       "               'Greed',\n",
       "               'Hawkeye, Riza',\n",
       "               'Yao, Ling',\n",
       "               'Armstrong, Alex Louis',\n",
       "               'Rockbell, Winry',\n",
       "               'Armstrong, Olivier Mira']),\n",
       "             ('Voices',\n",
       "              ['Park, Romi',\n",
       "               'Kugimiya, Rie',\n",
       "               'Miki, Shinichiro',\n",
       "               'Fujiwara, Keiji',\n",
       "               'Nakamura, Yuuichi',\n",
       "               'Orikasa, Fumiko',\n",
       "               'Miyano, Mamoru',\n",
       "               'Utsumi, Kenji',\n",
       "               'Takamoto, Megumi',\n",
       "               'Soumi, Youko']),\n",
       "             ('Staffs',\n",
       "              ['Cook, Justin',\n",
       "               'Yonai, Noritomo',\n",
       "               'Irie, Yasuhiro',\n",
       "               'Mima, Masafumi']),\n",
       "             ('Roles',\n",
       "              ['Producer',\n",
       "               'Producer',\n",
       "               'Director, Episode Director, Storyboard',\n",
       "               'Sound Director'])])"
      ]
     },
     "execution_count": 4,
     "metadata": {},
     "output_type": "execute_result"
    }
   ],
   "source": [
    "f.getDataFromPage(animePath)"
   ]
  },
  {
   "cell_type": "markdown",
   "id": "5b1b0b2c-15a5-4b39-9f62-43f830ae7ca2",
   "metadata": {},
   "source": [
    "Now we want to write all these information in a `.tsv` file.\n",
    "In order to do that we used the function `write_anime_tsv(animepath)`.\n"
   ]
  },
  {
   "cell_type": "code",
   "execution_count": null,
   "id": "f9e2e073-85a7-43ef-bbe2-d4b2402655bd",
   "metadata": {},
   "outputs": [],
   "source": [
    "f.write_anime_tsv(animePath)"
   ]
  },
  {
   "cell_type": "markdown",
   "id": "6dfcfbd7",
   "metadata": {},
   "source": [
    "Now that we have seen what happens with one `html` page. We are ready to do the same operation with all the other pages. As already told above, we will create all the anime tsv files with `write_all_anime_tsv()` function."
   ]
  },
  {
   "cell_type": "markdown",
   "id": "caa16246",
   "metadata": {},
   "source": [
    "# 2. Search Engine"
   ]
  },
  {
   "cell_type": "markdown",
   "id": "1f1dd3a4",
   "metadata": {},
   "source": [
    "We have done the requested stemming operation with the suggested nltk library. We write a function called `preprocessing(string)`. This function take as input a string and first of all tokenize the string using the function `nltk.word_tokenize`, then we removed all the non alphanumeric characters (puntactions, symbols and so on). \n",
    "\n",
    "Now that we have the tokenize string we stem all the words of the string with the nltk library (using the SnowballStemmer). In order to remove all the duplicates we transformed the list in a set. Then we returned the set."
   ]
  },
  {
   "cell_type": "markdown",
   "id": "c26bfba3",
   "metadata": {},
   "source": [
    "## 2.1 Conjunctive query"
   ]
  },
  {
   "cell_type": "markdown",
   "id": "a528fc2e",
   "metadata": {},
   "source": [
    "For this step we had to create an inverted index. In the homework was suggested to create a vocabulary but we jumped this step and we created the inverted index directly using the function `make_inverted_index()`.\n",
    "\n",
    "First of all we read the synopsis column of the dataframe created with `make_dataframe()` function. Then we iterated all the synopses and for each one we preprocessed it. Then the set of preprocessed synopses is added in a dictionary that has as key the hash of the single word, and as value the list of the indexes of the document which the word appears. We save the result in a file.\n"
   ]
  },
  {
   "cell_type": "markdown",
   "id": "7f2cd696",
   "metadata": {},
   "source": [
    "Now that we have an inverted index we can use it to search some anime.\n",
    "\n",
    "In order to do that we created a search engine function called `search()`."
   ]
  },
  {
   "cell_type": "markdown",
   "id": "ee14bc54",
   "metadata": {},
   "source": [
    "When this function runs, asks the user to write a query. Then it preprocess the query using the function `preprocessing()`, and for every single word of the query we searches in the inverted index which document it appears in. When we have found all the relatives documents where a single word appears, we do the intersection of the documents, in order to find just the documents where all the words appear.\n",
    "\n",
    "Now that we have the documents that we want to show to the user, we search in the dataframe the names, the descriptions and the urls of the documents.\n",
    "\n"
   ]
  },
  {
   "cell_type": "code",
   "execution_count": 7,
   "id": "7fa9392a-e262-4036-86ec-460dd3637875",
   "metadata": {},
   "outputs": [
    {
     "name": "stdout",
     "output_type": "stream",
     "text": [
      "INSTRUCTIONS:\n",
      "to close the search engine:exit()\n",
      "\n",
      "\n"
     ]
    },
    {
     "name": "stdin",
     "output_type": "stream",
     "text": [
      "Search: Violet Evergarden\n"
     ]
    },
    {
     "data": {
      "text/html": [
       "<div>\n",
       "<style scoped>\n",
       "    .dataframe tbody tr th:only-of-type {\n",
       "        vertical-align: middle;\n",
       "    }\n",
       "\n",
       "    .dataframe tbody tr th {\n",
       "        vertical-align: top;\n",
       "    }\n",
       "\n",
       "    .dataframe thead th {\n",
       "        text-align: right;\n",
       "    }\n",
       "</style>\n",
       "<table border=\"1\" class=\"dataframe\">\n",
       "  <thead>\n",
       "    <tr style=\"text-align: right;\">\n",
       "      <th></th>\n",
       "      <th>Name</th>\n",
       "      <th>Synopsis</th>\n",
       "      <th>url</th>\n",
       "    </tr>\n",
       "  </thead>\n",
       "  <tbody>\n",
       "    <tr>\n",
       "      <th>0</th>\n",
       "      <td>Violet Evergarden: Kitto \"Ai\" wo Shiru Hi ga Kuru no Darou</td>\n",
       "      <td>The CH Postal Company has just received a request to transcribe a love letter from Irma Felice, a famous opera singer. Accepting the task, Violet Evergarden visits Irma to write her letter. However, not only does Irma provide little information, she asks Violet to write based on her own feelings. Despite Violet's numerous attempts, Irma finds every version of the letter inadequate.  Violet consults her colleagues, and they help her out by writing love letters of their own. Yet even those are rejected by the opera singer. As a last resort, Violet asks Irma for her true thoughts and feelings, hoping to find the missing puzzle piece. Will the Auto Memory Doll be able to translate Irma's emotions into words?  [Written by MAL Rewrite]</td>\n",
       "      <td>https://myanimelist.net/anime/37095/Violet_Evergarden__Kitto_Ai_wo_Shiru_Hi_ga_Kuru_no_Darou</td>\n",
       "    </tr>\n",
       "    <tr>\n",
       "      <th>1</th>\n",
       "      <td>Violet Evergarden Movie</td>\n",
       "      <td>Several years have passed since the end of The Great War. As the radio tower in Leidenschaftlich continues to be built, telephones will soon become more relevant, leading to a decline in demand for \"Auto Memory Dolls.\" Even so, Violet Evergarden continues to rise in fame after her constant success with writing letters. However, sometimes the one thing you long for is the one thing that does not appear.  Violet Evergarden Movie follows Violet as she continues to comprehend the concept of emotion and the meaning of love. At the same time, she pursues a glimmer of hope that the man who once told her, \"I love you,\" may still be alive even after the many years that have passed.  [Written by MAL Rewrite]</td>\n",
       "      <td>https://myanimelist.net/anime/37987/Violet_Evergarden_Movie</td>\n",
       "    </tr>\n",
       "    <tr>\n",
       "      <th>2</th>\n",
       "      <td>Violet Evergarden</td>\n",
       "      <td>The Great War finally came to an end after four long years of conflict; fractured in two, the continent of Telesis slowly began to flourish once again. Caught up in the bloodshed was Violet Evergarden, a young girl raised for the sole purpose of decimating enemy lines. Hospitalized and maimed in a bloody skirmish during the War's final leg, she was left with only words from the person she held dearest, but with no understanding of their meaning.  Recovering from her wounds, Violet starts a new life working at CH Postal Services after a falling out with her new intended guardian family. There, she witnesses by pure chance the work of an \"Auto Memory Doll,\" amanuenses that transcribe people's thoughts and feelings into words on paper. Moved by the notion, Violet begins work as an Auto Memory Doll, a trade that will take her on an adventure, one that will reshape the lives of her clients and hopefully lead to self-discovery.  [Written by MAL Rewrite]</td>\n",
       "      <td>https://myanimelist.net/anime/33352/Violet_Evergarden</td>\n",
       "    </tr>\n",
       "    <tr>\n",
       "      <th>3</th>\n",
       "      <td>Violet Evergarden Gaiden: Eien to Jidou Shuki Ningyou</td>\n",
       "      <td>Isabella, the daughter of the noble York family, is enrolled in an all-girls academy to be groomed into a dame worthy of nobility. However, she has given up on her future, seeing the prestigious school as nothing more than a prison from the outside world. Her family notices her struggling in her lessons and decides to hire Violet Evergarden to personally tutor her under the guise of a handmaiden.   At first, Isabella treats Violet coldly. Violet seems to be able to do everything perfectly, leading Isabella to assume that she was born with a silver spoon. After some time together, Isabella begins to realize that Violet has had her own struggles and starts to open up to her. Isabella soon reveals that she has lost contact with her beloved younger sister, Taylor Bartlett, whom she yearns to see again.   Having experienced the power of words through her past clientele, Violet asks if Isabella wishes to write a letter to Taylor. Will Violet be able to help Isabella convey her feelings to her long-lost sister?  [Written by MAL Rewrite]</td>\n",
       "      <td>https://myanimelist.net/anime/39741/Violet_Evergarden_Gaiden__Eien_to_Jidou_Shuki_Ningyou</td>\n",
       "    </tr>\n",
       "  </tbody>\n",
       "</table>\n",
       "</div>"
      ],
      "text/plain": [
       "                                                         Name  \\\n",
       "0  Violet Evergarden: Kitto \"Ai\" wo Shiru Hi ga Kuru no Darou   \n",
       "1                                     Violet Evergarden Movie   \n",
       "2                                           Violet Evergarden   \n",
       "3       Violet Evergarden Gaiden: Eien to Jidou Shuki Ningyou   \n",
       "\n",
       "                                                                                                                                                                                                                                                                                                                                                                                                                                                                                                                                                                                                                                                                                                                                                                                                                                                                                                                                                                                                                                                                                Synopsis  \\\n",
       "0                                                                                                                                                                                                                                                                                                                    The CH Postal Company has just received a request to transcribe a love letter from Irma Felice, a famous opera singer. Accepting the task, Violet Evergarden visits Irma to write her letter. However, not only does Irma provide little information, she asks Violet to write based on her own feelings. Despite Violet's numerous attempts, Irma finds every version of the letter inadequate.  Violet consults her colleagues, and they help her out by writing love letters of their own. Yet even those are rejected by the opera singer. As a last resort, Violet asks Irma for her true thoughts and feelings, hoping to find the missing puzzle piece. Will the Auto Memory Doll be able to translate Irma's emotions into words?  [Written by MAL Rewrite]   \n",
       "1                                                                                                                                                                                                                                                                                                                                                    Several years have passed since the end of The Great War. As the radio tower in Leidenschaftlich continues to be built, telephones will soon become more relevant, leading to a decline in demand for \"Auto Memory Dolls.\" Even so, Violet Evergarden continues to rise in fame after her constant success with writing letters. However, sometimes the one thing you long for is the one thing that does not appear.  Violet Evergarden Movie follows Violet as she continues to comprehend the concept of emotion and the meaning of love. At the same time, she pursues a glimmer of hope that the man who once told her, \"I love you,\" may still be alive even after the many years that have passed.  [Written by MAL Rewrite]   \n",
       "2                                                                                      The Great War finally came to an end after four long years of conflict; fractured in two, the continent of Telesis slowly began to flourish once again. Caught up in the bloodshed was Violet Evergarden, a young girl raised for the sole purpose of decimating enemy lines. Hospitalized and maimed in a bloody skirmish during the War's final leg, she was left with only words from the person she held dearest, but with no understanding of their meaning.  Recovering from her wounds, Violet starts a new life working at CH Postal Services after a falling out with her new intended guardian family. There, she witnesses by pure chance the work of an \"Auto Memory Doll,\" amanuenses that transcribe people's thoughts and feelings into words on paper. Moved by the notion, Violet begins work as an Auto Memory Doll, a trade that will take her on an adventure, one that will reshape the lives of her clients and hopefully lead to self-discovery.  [Written by MAL Rewrite]   \n",
       "3  Isabella, the daughter of the noble York family, is enrolled in an all-girls academy to be groomed into a dame worthy of nobility. However, she has given up on her future, seeing the prestigious school as nothing more than a prison from the outside world. Her family notices her struggling in her lessons and decides to hire Violet Evergarden to personally tutor her under the guise of a handmaiden.   At first, Isabella treats Violet coldly. Violet seems to be able to do everything perfectly, leading Isabella to assume that she was born with a silver spoon. After some time together, Isabella begins to realize that Violet has had her own struggles and starts to open up to her. Isabella soon reveals that she has lost contact with her beloved younger sister, Taylor Bartlett, whom she yearns to see again.   Having experienced the power of words through her past clientele, Violet asks if Isabella wishes to write a letter to Taylor. Will Violet be able to help Isabella convey her feelings to her long-lost sister?  [Written by MAL Rewrite]   \n",
       "\n",
       "                                                                                            url  \n",
       "0  https://myanimelist.net/anime/37095/Violet_Evergarden__Kitto_Ai_wo_Shiru_Hi_ga_Kuru_no_Darou  \n",
       "1                                   https://myanimelist.net/anime/37987/Violet_Evergarden_Movie  \n",
       "2                                         https://myanimelist.net/anime/33352/Violet_Evergarden  \n",
       "3     https://myanimelist.net/anime/39741/Violet_Evergarden_Gaiden__Eien_to_Jidou_Shuki_Ningyou  "
      ]
     },
     "metadata": {},
     "output_type": "display_data"
    },
    {
     "name": "stdout",
     "output_type": "stream",
     "text": [
      "INSTRUCTIONS:\n",
      "to close the search engine:exit()\n",
      "\n",
      "\n"
     ]
    },
    {
     "name": "stdin",
     "output_type": "stream",
     "text": [
      "Search: exit()\n"
     ]
    },
    {
     "name": "stdout",
     "output_type": "stream",
     "text": [
      "\n",
      "\n",
      "\n",
      "stopping search engine...\n",
      "\n",
      "\n",
      "\n"
     ]
    }
   ],
   "source": [
    "f.search()"
   ]
  },
  {
   "cell_type": "markdown",
   "id": "5dc9654f",
   "metadata": {},
   "source": [
    "## 2.2 Conjunctive query and ranking score"
   ]
  },
  {
   "cell_type": "markdown",
   "id": "92f244bc",
   "metadata": {},
   "source": [
    "For this step of the homerwork we had to rank the output documents using the tfidf and the cosine similarity.\n",
    "\n",
    "First of all we created a new inverted index, in the form of \n",
    "```\n",
    "{\n",
    "term_id_1:[(document1, tfIdf_{term,document1}), (document2, tfIdf_{term,document2}), (document4, tfIdf_{term,document4}), ...],\n",
    "term_id_2:[(document1, tfIdf_{term,document1}), (document3, tfIdf_{term,document3}), (document5, tfIdf_{term,document5}), (document6, tfIdf_{term,document6}), ...],\n",
    "...}\n",
    "```\n",
    "where tfIdf_{term,documenti} is the tfidf score of the word computed for the document i.\n",
    "\n",
    "In order to do that we created a function called `tfidf`. This function takes as inputs: the word, the index of the document, the list of document and the inverted index previously created. The function just compute the tfidf score, the only thing that we want to mention is that we used the past inverted index to compute the numbers of document where the word appears, for the sake of speed.\n",
    "\n",
    "Then we applied this function in the `make_inverted_index_tfidf()` function. In this case we used the vocabulary in order to create the inverted index. "
   ]
  },
  {
   "cell_type": "markdown",
   "id": "6015f274",
   "metadata": {},
   "source": [
    "Now we applied this inverted index with a brand new search engine function called `search_2()`.\n",
    "This function does quite the same work of the previous one. The only differences are that we compute the cosine similarity between the query and all the output documents. The final list of tuples of simlarity values and document indexes is ordere using an heapSort function that we created using the python library `heapq`.   "
   ]
  },
  {
   "cell_type": "markdown",
   "id": "0a0d0ccb",
   "metadata": {},
   "source": [
    "In order to creat a max heapSort function we changed the signs of all the similarity values, then we applied a min heapSort function of the `heapq` library , and with the final ordered list we reverted the correct signs. Our function is called `maxHeapfy()`. \n",
    "\n",
    "Now that we have the ordered documents that we want to show to the user, we search in the dataframe the names, the descriptions and the urls of the documents.\n",
    "\n"
   ]
  },
  {
   "cell_type": "code",
   "execution_count": 8,
   "id": "e389e4a2-d47f-4051-bb52-15a8d6a5a795",
   "metadata": {},
   "outputs": [
    {
     "name": "stdout",
     "output_type": "stream",
     "text": [
      "INSTRUCTIONS:\n",
      "to close the search engine:exit()\n",
      "\n",
      "\n"
     ]
    },
    {
     "name": "stdin",
     "output_type": "stream",
     "text": [
      "Search: Violet Evergarden\n"
     ]
    },
    {
     "data": {
      "text/html": [
       "<div>\n",
       "<style scoped>\n",
       "    .dataframe tbody tr th:only-of-type {\n",
       "        vertical-align: middle;\n",
       "    }\n",
       "\n",
       "    .dataframe tbody tr th {\n",
       "        vertical-align: top;\n",
       "    }\n",
       "\n",
       "    .dataframe thead th {\n",
       "        text-align: right;\n",
       "    }\n",
       "</style>\n",
       "<table border=\"1\" class=\"dataframe\">\n",
       "  <thead>\n",
       "    <tr style=\"text-align: right;\">\n",
       "      <th></th>\n",
       "      <th>Name</th>\n",
       "      <th>Synopsis</th>\n",
       "      <th>url</th>\n",
       "      <th>Similarity</th>\n",
       "    </tr>\n",
       "  </thead>\n",
       "  <tbody>\n",
       "    <tr>\n",
       "      <th>13</th>\n",
       "      <td>Violet Evergarden Movie</td>\n",
       "      <td>Several years have passed since the end of The Great War. As the radio tower in Leidenschaftlich continues to be built, telephones will soon become more relevant, leading to a decline in demand for \"Auto Memory Dolls.\" Even so, Violet Evergarden continues to rise in fame after her constant success with writing letters. However, sometimes the one thing you long for is the one thing that does not appear.  Violet Evergarden Movie follows Violet as she continues to comprehend the concept of emotion and the meaning of love. At the same time, she pursues a glimmer of hope that the man who once told her, \"I love you,\" may still be alive even after the many years that have passed.  [Written by MAL Rewrite]</td>\n",
       "      <td>https://myanimelist.net/anime/37987/Violet_Evergarden_Movie</td>\n",
       "      <td>0.552460</td>\n",
       "    </tr>\n",
       "    <tr>\n",
       "      <th>154</th>\n",
       "      <td>Violet Evergarden Gaiden: Eien to Jidou Shuki Ningyou</td>\n",
       "      <td>Isabella, the daughter of the noble York family, is enrolled in an all-girls academy to be groomed into a dame worthy of nobility. However, she has given up on her future, seeing the prestigious school as nothing more than a prison from the outside world. Her family notices her struggling in her lessons and decides to hire Violet Evergarden to personally tutor her under the guise of a handmaiden.   At first, Isabella treats Violet coldly. Violet seems to be able to do everything perfectly, leading Isabella to assume that she was born with a silver spoon. After some time together, Isabella begins to realize that Violet has had her own struggles and starts to open up to her. Isabella soon reveals that she has lost contact with her beloved younger sister, Taylor Bartlett, whom she yearns to see again.   Having experienced the power of words through her past clientele, Violet asks if Isabella wishes to write a letter to Taylor. Will Violet be able to help Isabella convey her feelings to her long-lost sister?  [Written by MAL Rewrite]</td>\n",
       "      <td>https://myanimelist.net/anime/39741/Violet_Evergarden_Gaiden__Eien_to_Jidou_Shuki_Ningyou</td>\n",
       "      <td>0.405377</td>\n",
       "    </tr>\n",
       "    <tr>\n",
       "      <th>213</th>\n",
       "      <td>Violet Evergarden: Kitto \"Ai\" wo Shiru Hi ga Kuru no Darou</td>\n",
       "      <td>The CH Postal Company has just received a request to transcribe a love letter from Irma Felice, a famous opera singer. Accepting the task, Violet Evergarden visits Irma to write her letter. However, not only does Irma provide little information, she asks Violet to write based on her own feelings. Despite Violet's numerous attempts, Irma finds every version of the letter inadequate.  Violet consults her colleagues, and they help her out by writing love letters of their own. Yet even those are rejected by the opera singer. As a last resort, Violet asks Irma for her true thoughts and feelings, hoping to find the missing puzzle piece. Will the Auto Memory Doll be able to translate Irma's emotions into words?  [Written by MAL Rewrite]</td>\n",
       "      <td>https://myanimelist.net/anime/37095/Violet_Evergarden__Kitto_Ai_wo_Shiru_Hi_ga_Kuru_no_Darou</td>\n",
       "      <td>0.370160</td>\n",
       "    </tr>\n",
       "    <tr>\n",
       "      <th>55</th>\n",
       "      <td>Violet Evergarden</td>\n",
       "      <td>The Great War finally came to an end after four long years of conflict; fractured in two, the continent of Telesis slowly began to flourish once again. Caught up in the bloodshed was Violet Evergarden, a young girl raised for the sole purpose of decimating enemy lines. Hospitalized and maimed in a bloody skirmish during the War's final leg, she was left with only words from the person she held dearest, but with no understanding of their meaning.  Recovering from her wounds, Violet starts a new life working at CH Postal Services after a falling out with her new intended guardian family. There, she witnesses by pure chance the work of an \"Auto Memory Doll,\" amanuenses that transcribe people's thoughts and feelings into words on paper. Moved by the notion, Violet begins work as an Auto Memory Doll, a trade that will take her on an adventure, one that will reshape the lives of her clients and hopefully lead to self-discovery.  [Written by MAL Rewrite]</td>\n",
       "      <td>https://myanimelist.net/anime/33352/Violet_Evergarden</td>\n",
       "      <td>0.367917</td>\n",
       "    </tr>\n",
       "  </tbody>\n",
       "</table>\n",
       "</div>"
      ],
      "text/plain": [
       "                                                           Name  \\\n",
       "13                                      Violet Evergarden Movie   \n",
       "154       Violet Evergarden Gaiden: Eien to Jidou Shuki Ningyou   \n",
       "213  Violet Evergarden: Kitto \"Ai\" wo Shiru Hi ga Kuru no Darou   \n",
       "55                                            Violet Evergarden   \n",
       "\n",
       "                                                                                                                                                                                                                                                                                                                                                                                                                                                                                                                                                                                                                                                                                                                                                                                                                                                                                                                                                                                                                                                                                  Synopsis  \\\n",
       "13                                                                                                                                                                                                                                                                                                                                                     Several years have passed since the end of The Great War. As the radio tower in Leidenschaftlich continues to be built, telephones will soon become more relevant, leading to a decline in demand for \"Auto Memory Dolls.\" Even so, Violet Evergarden continues to rise in fame after her constant success with writing letters. However, sometimes the one thing you long for is the one thing that does not appear.  Violet Evergarden Movie follows Violet as she continues to comprehend the concept of emotion and the meaning of love. At the same time, she pursues a glimmer of hope that the man who once told her, \"I love you,\" may still be alive even after the many years that have passed.  [Written by MAL Rewrite]   \n",
       "154  Isabella, the daughter of the noble York family, is enrolled in an all-girls academy to be groomed into a dame worthy of nobility. However, she has given up on her future, seeing the prestigious school as nothing more than a prison from the outside world. Her family notices her struggling in her lessons and decides to hire Violet Evergarden to personally tutor her under the guise of a handmaiden.   At first, Isabella treats Violet coldly. Violet seems to be able to do everything perfectly, leading Isabella to assume that she was born with a silver spoon. After some time together, Isabella begins to realize that Violet has had her own struggles and starts to open up to her. Isabella soon reveals that she has lost contact with her beloved younger sister, Taylor Bartlett, whom she yearns to see again.   Having experienced the power of words through her past clientele, Violet asks if Isabella wishes to write a letter to Taylor. Will Violet be able to help Isabella convey her feelings to her long-lost sister?  [Written by MAL Rewrite]   \n",
       "213                                                                                                                                                                                                                                                                                                                    The CH Postal Company has just received a request to transcribe a love letter from Irma Felice, a famous opera singer. Accepting the task, Violet Evergarden visits Irma to write her letter. However, not only does Irma provide little information, she asks Violet to write based on her own feelings. Despite Violet's numerous attempts, Irma finds every version of the letter inadequate.  Violet consults her colleagues, and they help her out by writing love letters of their own. Yet even those are rejected by the opera singer. As a last resort, Violet asks Irma for her true thoughts and feelings, hoping to find the missing puzzle piece. Will the Auto Memory Doll be able to translate Irma's emotions into words?  [Written by MAL Rewrite]   \n",
       "55                                                                                       The Great War finally came to an end after four long years of conflict; fractured in two, the continent of Telesis slowly began to flourish once again. Caught up in the bloodshed was Violet Evergarden, a young girl raised for the sole purpose of decimating enemy lines. Hospitalized and maimed in a bloody skirmish during the War's final leg, she was left with only words from the person she held dearest, but with no understanding of their meaning.  Recovering from her wounds, Violet starts a new life working at CH Postal Services after a falling out with her new intended guardian family. There, she witnesses by pure chance the work of an \"Auto Memory Doll,\" amanuenses that transcribe people's thoughts and feelings into words on paper. Moved by the notion, Violet begins work as an Auto Memory Doll, a trade that will take her on an adventure, one that will reshape the lives of her clients and hopefully lead to self-discovery.  [Written by MAL Rewrite]   \n",
       "\n",
       "                                                                                              url  \\\n",
       "13                                    https://myanimelist.net/anime/37987/Violet_Evergarden_Movie   \n",
       "154     https://myanimelist.net/anime/39741/Violet_Evergarden_Gaiden__Eien_to_Jidou_Shuki_Ningyou   \n",
       "213  https://myanimelist.net/anime/37095/Violet_Evergarden__Kitto_Ai_wo_Shiru_Hi_ga_Kuru_no_Darou   \n",
       "55                                          https://myanimelist.net/anime/33352/Violet_Evergarden   \n",
       "\n",
       "     Similarity  \n",
       "13     0.552460  \n",
       "154    0.405377  \n",
       "213    0.370160  \n",
       "55     0.367917  "
      ]
     },
     "metadata": {},
     "output_type": "display_data"
    },
    {
     "name": "stdout",
     "output_type": "stream",
     "text": [
      "INSTRUCTIONS:\n",
      "to close the search engine:exit()\n",
      "\n",
      "\n"
     ]
    },
    {
     "name": "stdin",
     "output_type": "stream",
     "text": [
      "Search: exit()\n"
     ]
    },
    {
     "name": "stdout",
     "output_type": "stream",
     "text": [
      "\n",
      "\n",
      "\n",
      "stopping search engine...\n",
      "\n",
      "\n",
      "\n"
     ]
    }
   ],
   "source": [
    "f.search_2()"
   ]
  },
  {
   "cell_type": "markdown",
   "id": "bb7d6d58",
   "metadata": {},
   "source": [
    "# 3. Define a new score"
   ]
  },
  {
   "cell_type": "markdown",
   "id": "2f7ccac6",
   "metadata": {},
   "source": [
    "In this step of the homework we had to define our new score for the users. We used the algorithm of the `search_2()` function to create a brand new search engine function called `search_3()`. The algorithm is the same but we created a new inverted index using the function `make_inverted_index_with_names()`, considering also the anime titles. We scored the documents using the function `calculate_score()`.\n",
    "\n",
    "The `calculate_score()` function computes the score considering: first of all the cosine similarity betweeen the query and all the documents, then it add some bonus or malus if:\n",
    ". The title of the anime appears in the query, in particular we computed the name score using the formula: #words_of_the_query_in_the_title / #words_in_the_title\n",
    ". The popularity of the anime using the formula: ((max_popularity - popularity_of_the_doc) / max_popularity) * 2\n",
    ". The type of the anime: if the type appears in the query add 1, else 0.\n",
    "\n",
    "We add all these bonus/malus to the cosine similarity to compute the score."
   ]
  },
  {
   "cell_type": "code",
   "execution_count": 2,
   "id": "71f129c7-0b0a-4c6d-ab03-75ed44e36974",
   "metadata": {},
   "outputs": [
    {
     "name": "stdout",
     "output_type": "stream",
     "text": [
      "INSTRUCTIONS:\n",
      "to close the search engine:exit()\n",
      "\n",
      "\n"
     ]
    },
    {
     "name": "stdin",
     "output_type": "stream",
     "text": [
      "Search: Violet Evergarden\n"
     ]
    },
    {
     "data": {
      "text/html": [
       "<div>\n",
       "<style scoped>\n",
       "    .dataframe tbody tr th:only-of-type {\n",
       "        vertical-align: middle;\n",
       "    }\n",
       "\n",
       "    .dataframe tbody tr th {\n",
       "        vertical-align: top;\n",
       "    }\n",
       "\n",
       "    .dataframe thead th {\n",
       "        text-align: right;\n",
       "    }\n",
       "</style>\n",
       "<table border=\"1\" class=\"dataframe\">\n",
       "  <thead>\n",
       "    <tr style=\"text-align: right;\">\n",
       "      <th></th>\n",
       "      <th>Name</th>\n",
       "      <th>Synopsis</th>\n",
       "      <th>url</th>\n",
       "      <th>Similarity</th>\n",
       "    </tr>\n",
       "  </thead>\n",
       "  <tbody>\n",
       "    <tr>\n",
       "      <th>55</th>\n",
       "      <td>Violet Evergarden</td>\n",
       "      <td>The Great War finally came to an end after four long years of conflict; fractured in two, the continent of Telesis slowly began to flourish once again. Caught up in the bloodshed was Violet Evergarden, a young girl raised for the sole purpose of decimating enemy lines. Hospitalized and maimed in a bloody skirmish during the War's final leg, she was left with only words from the person she held dearest, but with no understanding of their meaning.  Recovering from her wounds, Violet starts a new life working at CH Postal Services after a falling out with her new intended guardian family. There, she witnesses by pure chance the work of an \"Auto Memory Doll,\" amanuenses that transcribe people's thoughts and feelings into words on paper. Moved by the notion, Violet begins work as an Auto Memory Doll, a trade that will take her on an adventure, one that will reshape the lives of her clients and hopefully lead to self-discovery.  [Written by MAL Rewrite]</td>\n",
       "      <td>https://myanimelist.net/anime/33352/Violet_Evergarden</td>\n",
       "      <td>3.365459</td>\n",
       "    </tr>\n",
       "    <tr>\n",
       "      <th>13</th>\n",
       "      <td>Violet Evergarden Movie</td>\n",
       "      <td>Several years have passed since the end of The Great War. As the radio tower in Leidenschaftlich continues to be built, telephones will soon become more relevant, leading to a decline in demand for \"Auto Memory Dolls.\" Even so, Violet Evergarden continues to rise in fame after her constant success with writing letters. However, sometimes the one thing you long for is the one thing that does not appear.  Violet Evergarden Movie follows Violet as she continues to comprehend the concept of emotion and the meaning of love. At the same time, she pursues a glimmer of hope that the man who once told her, \"I love you,\" may still be alive even after the many years that have passed.  [Written by MAL Rewrite]</td>\n",
       "      <td>https://myanimelist.net/anime/37987/Violet_Evergarden_Movie</td>\n",
       "      <td>3.169853</td>\n",
       "    </tr>\n",
       "    <tr>\n",
       "      <th>154</th>\n",
       "      <td>Violet Evergarden Gaiden: Eien to Jidou Shuki Ningyou</td>\n",
       "      <td>Isabella, the daughter of the noble York family, is enrolled in an all-girls academy to be groomed into a dame worthy of nobility. However, she has given up on her future, seeing the prestigious school as nothing more than a prison from the outside world. Her family notices her struggling in her lessons and decides to hire Violet Evergarden to personally tutor her under the guise of a handmaiden.   At first, Isabella treats Violet coldly. Violet seems to be able to do everything perfectly, leading Isabella to assume that she was born with a silver spoon. After some time together, Isabella begins to realize that Violet has had her own struggles and starts to open up to her. Isabella soon reveals that she has lost contact with her beloved younger sister, Taylor Bartlett, whom she yearns to see again.   Having experienced the power of words through her past clientele, Violet asks if Isabella wishes to write a letter to Taylor. Will Violet be able to help Isabella convey her feelings to her long-lost sister?  [Written by MAL Rewrite]</td>\n",
       "      <td>https://myanimelist.net/anime/39741/Violet_Evergarden_Gaiden__Eien_to_Jidou_Shuki_Ningyou</td>\n",
       "      <td>2.596899</td>\n",
       "    </tr>\n",
       "    <tr>\n",
       "      <th>213</th>\n",
       "      <td>Violet Evergarden: Kitto \"Ai\" wo Shiru Hi ga Kuru no Darou</td>\n",
       "      <td>The CH Postal Company has just received a request to transcribe a love letter from Irma Felice, a famous opera singer. Accepting the task, Violet Evergarden visits Irma to write her letter. However, not only does Irma provide little information, she asks Violet to write based on her own feelings. Despite Violet's numerous attempts, Irma finds every version of the letter inadequate.  Violet consults her colleagues, and they help her out by writing love letters of their own. Yet even those are rejected by the opera singer. As a last resort, Violet asks Irma for her true thoughts and feelings, hoping to find the missing puzzle piece. Will the Auto Memory Doll be able to translate Irma's emotions into words?  [Written by MAL Rewrite]</td>\n",
       "      <td>https://myanimelist.net/anime/37095/Violet_Evergarden__Kitto_Ai_wo_Shiru_Hi_ga_Kuru_no_Darou</td>\n",
       "      <td>2.478769</td>\n",
       "    </tr>\n",
       "    <tr>\n",
       "      <th>3074</th>\n",
       "      <td>5-fun de Wakaru: Violet Evergarden</td>\n",
       "      <td>NaN</td>\n",
       "      <td>https://myanimelist.net/anime/49145/5-fun_de_Wakaru__Violet_Evergarden</td>\n",
       "      <td>1.622525</td>\n",
       "    </tr>\n",
       "  </tbody>\n",
       "</table>\n",
       "</div>"
      ],
      "text/plain": [
       "                                                            Name  \\\n",
       "55                                             Violet Evergarden   \n",
       "13                                       Violet Evergarden Movie   \n",
       "154        Violet Evergarden Gaiden: Eien to Jidou Shuki Ningyou   \n",
       "213   Violet Evergarden: Kitto \"Ai\" wo Shiru Hi ga Kuru no Darou   \n",
       "3074                          5-fun de Wakaru: Violet Evergarden   \n",
       "\n",
       "                                                                                                                                                                                                                                                                                                                                                                                                                                                                                                                                                                                                                                                                                                                                                                                                                                                                                                                                                                                                                                                                                   Synopsis  \\\n",
       "55                                                                                        The Great War finally came to an end after four long years of conflict; fractured in two, the continent of Telesis slowly began to flourish once again. Caught up in the bloodshed was Violet Evergarden, a young girl raised for the sole purpose of decimating enemy lines. Hospitalized and maimed in a bloody skirmish during the War's final leg, she was left with only words from the person she held dearest, but with no understanding of their meaning.  Recovering from her wounds, Violet starts a new life working at CH Postal Services after a falling out with her new intended guardian family. There, she witnesses by pure chance the work of an \"Auto Memory Doll,\" amanuenses that transcribe people's thoughts and feelings into words on paper. Moved by the notion, Violet begins work as an Auto Memory Doll, a trade that will take her on an adventure, one that will reshape the lives of her clients and hopefully lead to self-discovery.  [Written by MAL Rewrite]   \n",
       "13                                                                                                                                                                                                                                                                                                                                                      Several years have passed since the end of The Great War. As the radio tower in Leidenschaftlich continues to be built, telephones will soon become more relevant, leading to a decline in demand for \"Auto Memory Dolls.\" Even so, Violet Evergarden continues to rise in fame after her constant success with writing letters. However, sometimes the one thing you long for is the one thing that does not appear.  Violet Evergarden Movie follows Violet as she continues to comprehend the concept of emotion and the meaning of love. At the same time, she pursues a glimmer of hope that the man who once told her, \"I love you,\" may still be alive even after the many years that have passed.  [Written by MAL Rewrite]   \n",
       "154   Isabella, the daughter of the noble York family, is enrolled in an all-girls academy to be groomed into a dame worthy of nobility. However, she has given up on her future, seeing the prestigious school as nothing more than a prison from the outside world. Her family notices her struggling in her lessons and decides to hire Violet Evergarden to personally tutor her under the guise of a handmaiden.   At first, Isabella treats Violet coldly. Violet seems to be able to do everything perfectly, leading Isabella to assume that she was born with a silver spoon. After some time together, Isabella begins to realize that Violet has had her own struggles and starts to open up to her. Isabella soon reveals that she has lost contact with her beloved younger sister, Taylor Bartlett, whom she yearns to see again.   Having experienced the power of words through her past clientele, Violet asks if Isabella wishes to write a letter to Taylor. Will Violet be able to help Isabella convey her feelings to her long-lost sister?  [Written by MAL Rewrite]   \n",
       "213                                                                                                                                                                                                                                                                                                                     The CH Postal Company has just received a request to transcribe a love letter from Irma Felice, a famous opera singer. Accepting the task, Violet Evergarden visits Irma to write her letter. However, not only does Irma provide little information, she asks Violet to write based on her own feelings. Despite Violet's numerous attempts, Irma finds every version of the letter inadequate.  Violet consults her colleagues, and they help her out by writing love letters of their own. Yet even those are rejected by the opera singer. As a last resort, Violet asks Irma for her true thoughts and feelings, hoping to find the missing puzzle piece. Will the Auto Memory Doll be able to translate Irma's emotions into words?  [Written by MAL Rewrite]   \n",
       "3074                                                                                                                                                                                                                                                                                                                                                                                                                                                                                                                                                                                                                                                                                                                                                                                                                                                                                                                                                                                                                                                                                    NaN   \n",
       "\n",
       "                                                                                               url  \\\n",
       "55                                           https://myanimelist.net/anime/33352/Violet_Evergarden   \n",
       "13                                     https://myanimelist.net/anime/37987/Violet_Evergarden_Movie   \n",
       "154      https://myanimelist.net/anime/39741/Violet_Evergarden_Gaiden__Eien_to_Jidou_Shuki_Ningyou   \n",
       "213   https://myanimelist.net/anime/37095/Violet_Evergarden__Kitto_Ai_wo_Shiru_Hi_ga_Kuru_no_Darou   \n",
       "3074                        https://myanimelist.net/anime/49145/5-fun_de_Wakaru__Violet_Evergarden   \n",
       "\n",
       "      Similarity  \n",
       "55      3.365459  \n",
       "13      3.169853  \n",
       "154     2.596899  \n",
       "213     2.478769  \n",
       "3074    1.622525  "
      ]
     },
     "metadata": {},
     "output_type": "display_data"
    },
    {
     "name": "stdout",
     "output_type": "stream",
     "text": [
      "INSTRUCTIONS:\n",
      "to close the search engine:exit()\n",
      "\n",
      "\n"
     ]
    },
    {
     "name": "stdin",
     "output_type": "stream",
     "text": [
      "Search: exit()\n"
     ]
    },
    {
     "name": "stdout",
     "output_type": "stream",
     "text": [
      "\n",
      "\n",
      "\n",
      "stopping search engine...\n",
      "\n",
      "\n",
      "\n"
     ]
    }
   ],
   "source": [
    "f.search_3()"
   ]
  },
  {
   "cell_type": "markdown",
   "id": "5b706b50-e0fd-4426-8da9-5511184c4277",
   "metadata": {},
   "source": [
    "# 5 - Algorithmic question"
   ]
  },
  {
   "cell_type": "markdown",
   "id": "f407534b-7042-4992-befe-2b03edbb2989",
   "metadata": {},
   "source": [
    "#### 1 - Write an algorithm that computes the acceptable solution with the longest possible duration."
   ]
  },
  {
   "cell_type": "markdown",
   "id": "260899b2-4f9f-4051-9bf3-0412688f7eba",
   "metadata": {},
   "source": [
    "```\n",
    "Input:\n",
    "    a: list of integers\n",
    "\n",
    "function optimalSolution(a):\n",
    "    n <-- len(a)\n",
    "\n",
    "    position = [0 for i=0 to n]\n",
    "    position[0] <-- -1\n",
    "\n",
    "    last_Sum <-- 0\n",
    "    last_Pos <-- -1 \n",
    "    curr_Sum <-- a[0]\n",
    "    curr_Pos <-- 0\n",
    "\n",
    "    for i=1 to n do\n",
    "        position[i] <-- last_Pos\n",
    "        \n",
    "        new_Sum <-- max between a[i] + last_Sum and a[i]\n",
    "        last_Sum <-- curr_Sum\n",
    "        last_Pos <-- curr_Pos\n",
    "        if new_Sum > curr_Sum do\n",
    "            curr_Sum <-- new_Sum\n",
    "            curr_Pos <-- i\n",
    "    end for\n",
    "    \n",
    "    b <-- empty list\n",
    "    append a[curr_Pos] to b\n",
    "    j <-- position[n - 1]\n",
    "    while j != -1 do\n",
    "        append a[j] to b\n",
    "        j <-- position[j]\n",
    "    end while\n",
    "    \n",
    "    reverse b\n",
    "    \n",
    "    return curr_Sum, b\n",
    "```"
   ]
  },
  {
   "cell_type": "markdown",
   "id": "b6ada08d-3a3a-4dc2-aa89-72d19b389640",
   "metadata": {},
   "source": [
    "This algorithm takes as input an array of integers which is the list of appointments.\n",
    "\n",
    "Inside the algorithm I create a new array, \"position\", in which I save the index of the elements that have been added to the current sum. Then I initialize the variables before I start the \"for\" loop in which I will see all the elements of the array and I will start calculating the sum.\n",
    "\n",
    "Once I enter the \"for\" loop, I first save the position of the last calculated sum. Then I check what is the maximum between \"last_sum[i] + a[i]\" and \"a[i]\", that is between the sum that I had plus the new element of the array that I consider and the new element of the array, and I save it in the variable \"new_sum\". Then I check which is the maximum between the new sum and the current sum. If the new sum is greater, then I substitute.\n",
    "\n",
    "Once out of the \"for\" loop, I create the list of elements that form the maximum sum using the array \"position\" that I used to keep track of these elements."
   ]
  },
  {
   "cell_type": "markdown",
   "id": "e15297e9-07bc-4fbe-a905-5ae425c640b2",
   "metadata": {},
   "source": [
    "#### 2 - Implement a program that given in input an instance in the form given above, gives the optimal solution."
   ]
  },
  {
   "cell_type": "code",
   "execution_count": 67,
   "id": "a68e048e-ffdd-4db6-80f4-65341a16e8fd",
   "metadata": {},
   "outputs": [],
   "source": [
    "def optimalSolution(a):\n",
    "    n = len(a)\n",
    "\n",
    "    position = [0 for _ in range (n)]    # I create an array in which I will save the position of the sum that I have calculated\n",
    "    position[0] = -1\n",
    "\n",
    "    # I initialize the variables first I start the \"for\" loop\n",
    "    last_Sum = 0    # last sum encountered\n",
    "    last_Pos = -1    # position of the last sum\n",
    "    curr_Sum = a[0]    # current sum\n",
    "    curr_Pos = 0    # position of the current sum\n",
    "\n",
    "    # I calculate the max sum\n",
    "    for i in range (1,n):\n",
    "        position[i] = last_Pos    # I save the last sum's position for this element\n",
    "        \n",
    "        new_Sum = max(a[i] + last_Sum, a[i])\n",
    "        last_Sum = curr_Sum\n",
    "        last_Pos = curr_Pos\n",
    "        if new_Sum > curr_Sum:\n",
    "            curr_Sum = new_Sum\n",
    "            curr_Pos = i\n",
    "                \n",
    "    # I create the list and I insert the elements that I used to have the maximum sum\n",
    "    b=[]\n",
    "    b.append(a[curr_Pos])\n",
    "    j = position[n - 1]\n",
    "    while j != -1:\n",
    "        b.append(a[j])\n",
    "        j = position[j]\n",
    "    \n",
    "    b.reverse()    # I reverse the list because, as I have built it, it is written in reverse order\n",
    "    \n",
    "    return curr_Sum, b"
   ]
  },
  {
   "cell_type": "markdown",
   "id": "0e383e19-88d0-445c-9296-429050b21893",
   "metadata": {},
   "source": [
    "Let's try some examples."
   ]
  },
  {
   "cell_type": "markdown",
   "id": "89fad294-3b7e-4bd1-9bce-7449dd6d945f",
   "metadata": {},
   "source": [
    "##### Example 1:"
   ]
  },
  {
   "cell_type": "code",
   "execution_count": 68,
   "id": "260b5c40-1e3c-4cbc-b73d-74a4c8e47361",
   "metadata": {},
   "outputs": [
    {
     "name": "stdout",
     "output_type": "stream",
     "text": [
      "The optimal schedule is [40, 50, 20] , of total duration 110 .\n"
     ]
    }
   ],
   "source": [
    "a=[30,40,25,50,30,20,10]\n",
    "max_sum, schedule = optimalSolution(a)\n",
    "print (\"The optimal schedule is\", schedule, \", of total duration\", max_sum, \".\")"
   ]
  },
  {
   "cell_type": "markdown",
   "id": "3bc031c7-d874-47ae-996a-afdc4ef9239b",
   "metadata": {},
   "source": [
    "##### Example 2:"
   ]
  },
  {
   "cell_type": "code",
   "execution_count": 69,
   "id": "a6438445-2e55-493b-b040-6698b2820de5",
   "metadata": {},
   "outputs": [
    {
     "name": "stdout",
     "output_type": "stream",
     "text": [
      "The optimal schedule is [50, 30, 35, 45] , of total duration 160 .\n"
     ]
    }
   ],
   "source": [
    "a=[40,50,20,30,25,35,60,45]\n",
    "max_sum, schedule = optimalSolution(a)\n",
    "print (\"The optimal schedule is\", schedule, \", of total duration\", max_sum, \".\")"
   ]
  },
  {
   "cell_type": "markdown",
   "id": "d959f094-9ff4-4914-a18d-dada0f587d63",
   "metadata": {},
   "source": [
    "##### Example 3:"
   ]
  },
  {
   "cell_type": "code",
   "execution_count": 70,
   "id": "6f6b2228-de64-435c-b20a-4140dd680653",
   "metadata": {},
   "outputs": [
    {
     "name": "stdout",
     "output_type": "stream",
     "text": [
      "The optimal schedule is [70, 60] , of total duration 130 .\n"
     ]
    }
   ],
   "source": [
    "a=[25,70,45,20,60]\n",
    "max_sum, schedule = optimalSolution(a)\n",
    "print (\"The optimal schedule is\", schedule, \", of total duration\", max_sum, \".\")"
   ]
  },
  {
   "cell_type": "markdown",
   "id": "c371eaf8-cecc-40b0-9135-322b4c50cbe5",
   "metadata": {},
   "source": [
    "##### Example 4:"
   ]
  },
  {
   "cell_type": "code",
   "execution_count": 78,
   "id": "78734d76-dcd1-4434-92a6-14c0cc3ff666",
   "metadata": {},
   "outputs": [
    {
     "name": "stdout",
     "output_type": "stream",
     "text": [
      "The optimal schedule is [35, 60, 35] , of total duration 130 .\n"
     ]
    }
   ],
   "source": [
    "a=[30,35,20,60,40,30,35]\n",
    "max_sum, schedule = optimalSolution(a)\n",
    "print (\"The optimal schedule is\", schedule, \", of total duration\", max_sum, \".\")"
   ]
  },
  {
   "cell_type": "markdown",
   "id": "3c405582-2068-43a5-a3fc-d03464e554d2",
   "metadata": {},
   "source": [
    "##### General examples:"
   ]
  },
  {
   "cell_type": "code",
   "execution_count": 74,
   "id": "f529411d-1083-41df-bc84-6ed070e18fbe",
   "metadata": {},
   "outputs": [
    {
     "name": "stdout",
     "output_type": "stream",
     "text": [
      "Max sum = 110 . The list of numbers is: [7, 100, 3] .\n"
     ]
    }
   ],
   "source": [
    "a=[7,5,10,100,9,3]\n",
    "max_sum, list_num = optimalSolution(a)\n",
    "print (\"Max sum =\", max_sum, \". The list of numbers is:\", list_num, \".\")"
   ]
  },
  {
   "cell_type": "code",
   "execution_count": 75,
   "id": "0c44be73-d2e7-44d9-8b5b-13e6172f947e",
   "metadata": {},
   "outputs": [
    {
     "name": "stdout",
     "output_type": "stream",
     "text": [
      "Max sum = 12 . The list of numbers is: [6, 4, 2] .\n"
     ]
    }
   ],
   "source": [
    "a=[6,5,4,3,2,1]\n",
    "max_sum, list_num = optimalSolution(a)\n",
    "print (\"Max sum =\", max_sum, \". The list of numbers is:\", list_num, \".\")"
   ]
  },
  {
   "cell_type": "code",
   "execution_count": 76,
   "id": "badcd590-47e3-4db5-b088-7aa48125f9de",
   "metadata": {},
   "outputs": [
    {
     "name": "stdout",
     "output_type": "stream",
     "text": [
      "Max sum = 9 . The list of numbers is: [1, 3, 5] .\n"
     ]
    }
   ],
   "source": [
    "a=[1,2,3,-1,-3,5,2]\n",
    "max_sum, list_num = optimalSolution(a)\n",
    "print (\"Max sum =\", max_sum, \". The list of numbers is:\", list_num, \".\")"
   ]
  },
  {
   "cell_type": "markdown",
   "id": "2433c4c6-6fbc-4e14-84e2-23f6f5f2e07a",
   "metadata": {},
   "source": [
    "# Final comment\n",
    "\n",
    "\n",
    "The examples output of our search engine functions show an interesting result.\n",
    "\n",
    "We are searching for a specific anime: Violet Evergarden:\n",
    "\n",
    " - In the first search engine, the anime that we are looking for is at the third position due to the fact that the documents are not ranked.\n",
    " - In the second search engine, the anime that we are looking for is at the last position due to the fact that the words *violet* and *evergarden* appear less in the anime description rather than the others results\n",
    " - In the last search engine, we finally obtained the anime *Violet Evergarden* in the first position, using the brand new ranking score."
   ]
  },
  {
   "cell_type": "markdown",
   "id": "973608dc-1ded-4f92-aa48-50f23102b053",
   "metadata": {},
   "source": [
    ".\n",
    "\n",
    ".\n",
    "\n",
    "\n",
    "."
   ]
  },
  {
   "cell_type": "markdown",
   "id": "bd3172cf-a937-4ae0-8b49-7d88c959b634",
   "metadata": {},
   "source": [
    "\n",
    "\n",
    "\n",
    "\n",
    "\n",
    "Written by:\n",
    "\n",
    " - Amedeo Ranaldi\n",
    " - Riccardo Agabiti\n",
    " - Alessia Sgrigna"
   ]
  }
 ],
 "metadata": {
  "kernelspec": {
   "display_name": "Python 3",
   "language": "python",
   "name": "python3"
  },
  "language_info": {
   "codemirror_mode": {
    "name": "ipython",
    "version": 3
   },
   "file_extension": ".py",
   "mimetype": "text/x-python",
   "name": "python",
   "nbconvert_exporter": "python",
   "pygments_lexer": "ipython3",
   "version": "3.8.8"
  }
 },
 "nbformat": 4,
 "nbformat_minor": 5
}
