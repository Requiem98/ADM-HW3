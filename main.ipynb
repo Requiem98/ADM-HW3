{
 "cells": [
  {
   "cell_type": "code",
   "execution_count": null,
   "id": "3d69fec4-9e45-4137-85cb-fd13711c0bfc",
   "metadata": {},
   "outputs": [],
   "source": [
    "import functions as f"
   ]
  },
  {
   "cell_type": "markdown",
   "id": "ad80f3d3-09a0-4fbb-9df3-0d1bc9234fa9",
   "metadata": {},
   "source": [
    "# INTRO"
   ]
  },
  {
   "cell_type": "code",
   "execution_count": null,
   "id": "f45df59d-882a-4106-809a-3709a37ee11c",
   "metadata": {},
   "outputs": [],
   "source": [
    "pages = f.initGet()"
   ]
  },
  {
   "cell_type": "code",
   "execution_count": null,
   "id": "ba0aa90d-8b83-4d34-8875-aeba74b8c848",
   "metadata": {},
   "outputs": [],
   "source": [
    "f.getAnime(pages, start=0)"
   ]
  },
  {
   "cell_type": "code",
   "execution_count": null,
   "id": "49e1e71d-6619-4073-a821-36174300c4fa",
   "metadata": {},
   "outputs": [],
   "source": []
  }
 ],
 "metadata": {
  "kernelspec": {
   "display_name": "Python 3",
   "language": "python",
   "name": "python3"
  },
  "language_info": {
   "codemirror_mode": {
    "name": "ipython",
    "version": 3
   },
   "file_extension": ".py",
   "mimetype": "text/x-python",
   "name": "python",
   "nbconvert_exporter": "python",
   "pygments_lexer": "ipython3",
   "version": "3.8.8"
  }
 },
 "nbformat": 4,
 "nbformat_minor": 5
}
