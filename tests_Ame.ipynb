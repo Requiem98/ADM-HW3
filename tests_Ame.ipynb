{
 "cells": [
  {
   "cell_type": "code",
   "execution_count": 1,
   "id": "f01123dd-afc7-4ec3-95a3-0cb2086a976b",
   "metadata": {},
   "outputs": [],
   "source": [
    "import functions as f\n",
    "import bs4 as bs\n",
    "import re"
   ]
  },
  {
   "cell_type": "markdown",
   "id": "4a194eca-a589-4835-bd3b-6548f81144ba",
   "metadata": {},
   "source": [
    "# ======================================="
   ]
  },
  {
   "cell_type": "code",
   "execution_count": 2,
   "id": "04d40af8-0020-4098-b4dc-66f808feafe0",
   "metadata": {},
   "outputs": [
    {
     "data": {
      "text/plain": [
       "{'Type': 'OVA',\n",
       " 'Episodes': 1,\n",
       " 'Aired': 'Jul 9, 1991',\n",
       " 'Members': 1147,\n",
       " 'Users': 573,\n",
       " 'Score': 5.011,\n",
       " 'Ranked': 11452,\n",
       " 'Popularity': 10819,\n",
       " 'Name': 'Shiawasette Naani',\n",
       " 'Synopsis': 'Based on a series of books authored by Ryuho Ookawa. Alto is going home from school, when he finds a girl who calls herself an angel. ',\n",
       " 'Related_Anime': None,\n",
       " 'Characters': None,\n",
       " 'Voices': None,\n",
       " 'Staffs': None,\n",
       " 'Roles': None}"
      ]
     },
     "execution_count": 2,
     "metadata": {},
     "output_type": "execute_result"
    }
   ],
   "source": [
    "f.getDataFromPage(\"./animeList_pages/230th_page/article_11452.html\")"
   ]
  }
 ],
 "metadata": {
  "kernelspec": {
   "display_name": "Python 3",
   "language": "python",
   "name": "python3"
  },
  "language_info": {
   "codemirror_mode": {
    "name": "ipython",
    "version": 3
   },
   "file_extension": ".py",
   "mimetype": "text/x-python",
   "name": "python",
   "nbconvert_exporter": "python",
   "pygments_lexer": "ipython3",
   "version": "3.8.8"
  }
 },
 "nbformat": 4,
 "nbformat_minor": 5
}
