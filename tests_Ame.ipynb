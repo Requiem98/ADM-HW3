{
 "cells": [
  {
   "cell_type": "code",
   "execution_count": 1,
   "id": "f01123dd-afc7-4ec3-95a3-0cb2086a976b",
   "metadata": {},
   "outputs": [],
   "source": [
    "import functions as f\n",
    "import bs4 as bs\n",
    "import re"
   ]
  },
  {
   "cell_type": "markdown",
   "id": "4a194eca-a589-4835-bd3b-6548f81144ba",
   "metadata": {},
   "source": [
    "# =======================================\n",
    "\n",
    "Da fare:\n",
    "\n",
    " - Funzione parsing dates"
   ]
  },
  {
   "cell_type": "code",
   "execution_count": 11,
   "id": "664eb9b3-50fd-4d73-b645-61a46f00b3a0",
   "metadata": {},
   "outputs": [],
   "source": [
    "data = f.pd.read_csv(\"./database.csv\", usecols=[\"Synopsis\"])"
   ]
  },
  {
   "cell_type": "code",
   "execution_count": 12,
   "id": "de1aee58-25a2-43d8-9340-d414d2d6b720",
   "metadata": {},
   "outputs": [
    {
     "data": {
      "text/html": [
       "<div>\n",
       "<style scoped>\n",
       "    .dataframe tbody tr th:only-of-type {\n",
       "        vertical-align: middle;\n",
       "    }\n",
       "\n",
       "    .dataframe tbody tr th {\n",
       "        vertical-align: top;\n",
       "    }\n",
       "\n",
       "    .dataframe thead th {\n",
       "        text-align: right;\n",
       "    }\n",
       "</style>\n",
       "<table border=\"1\" class=\"dataframe\">\n",
       "  <thead>\n",
       "    <tr style=\"text-align: right;\">\n",
       "      <th></th>\n",
       "      <th>Synopsis</th>\n",
       "    </tr>\n",
       "  </thead>\n",
       "  <tbody>\n",
       "    <tr>\n",
       "      <th>0</th>\n",
       "      <td>After a horrific alchemy experiment goes wrong...</td>\n",
       "    </tr>\n",
       "    <tr>\n",
       "      <th>1</th>\n",
       "      <td>Gintoki, Shinpachi, and Kagura return as the f...</td>\n",
       "    </tr>\n",
       "    <tr>\n",
       "      <th>2</th>\n",
       "      <td>Seeking to restore humanity's diminishing hope...</td>\n",
       "    </tr>\n",
       "    <tr>\n",
       "      <th>3</th>\n",
       "      <td>The self-proclaimed mad scientist Rintarou Oka...</td>\n",
       "    </tr>\n",
       "    <tr>\n",
       "      <th>4</th>\n",
       "      <td>Hundreds of years ago, the Chinese Zodiac spir...</td>\n",
       "    </tr>\n",
       "    <tr>\n",
       "      <th>...</th>\n",
       "      <td>...</td>\n",
       "    </tr>\n",
       "    <tr>\n",
       "      <th>19123</th>\n",
       "      <td>NaN</td>\n",
       "    </tr>\n",
       "    <tr>\n",
       "      <th>19124</th>\n",
       "      <td>Takao Ryota is a pervy but well-meaning biker-...</td>\n",
       "    </tr>\n",
       "    <tr>\n",
       "      <th>19125</th>\n",
       "      <td>NaN</td>\n",
       "    </tr>\n",
       "    <tr>\n",
       "      <th>19126</th>\n",
       "      <td>Short special included in the DVD-BOX of Mahou...</td>\n",
       "    </tr>\n",
       "    <tr>\n",
       "      <th>19127</th>\n",
       "      <td>NaN</td>\n",
       "    </tr>\n",
       "  </tbody>\n",
       "</table>\n",
       "<p>19128 rows × 1 columns</p>\n",
       "</div>"
      ],
      "text/plain": [
       "                                                Synopsis\n",
       "0      After a horrific alchemy experiment goes wrong...\n",
       "1      Gintoki, Shinpachi, and Kagura return as the f...\n",
       "2      Seeking to restore humanity's diminishing hope...\n",
       "3      The self-proclaimed mad scientist Rintarou Oka...\n",
       "4      Hundreds of years ago, the Chinese Zodiac spir...\n",
       "...                                                  ...\n",
       "19123                                                NaN\n",
       "19124  Takao Ryota is a pervy but well-meaning biker-...\n",
       "19125                                                NaN\n",
       "19126  Short special included in the DVD-BOX of Mahou...\n",
       "19127                                                NaN\n",
       "\n",
       "[19128 rows x 1 columns]"
      ]
     },
     "execution_count": 12,
     "metadata": {},
     "output_type": "execute_result"
    }
   ],
   "source": [
    "data"
   ]
  },
  {
   "cell_type": "code",
   "execution_count": 49,
   "id": "65274f75-da11-4ade-908c-e5d09385a6c9",
   "metadata": {},
   "outputs": [],
   "source": [
    "def preprocessing(string):\n",
    "    processed_string = []\n",
    "    stemmer = nltk.SnowballStemmer(\"english\", ignore_stopwords=True)\n",
    "    words = nltk.word_tokenize(string)\n",
    "    new_words= [word for word in words if word.isalnum()]\n",
    "    \n",
    "    \n",
    "    for word in new_words:\n",
    "        processed_string.append(stemmer.stem(word))\n",
    "        \n",
    "    processed_string = set(processed_string)\n",
    "    \n",
    "    return processed_string"
   ]
  },
  {
   "cell_type": "code",
   "execution_count": null,
   "id": "76451810-4c02-4f30-b91b-a384cac435fc",
   "metadata": {},
   "outputs": [],
   "source": []
  },
  {
   "cell_type": "code",
   "execution_count": 94,
   "id": "18d7a80e-5651-4182-9e6c-e8f96f3c18a7",
   "metadata": {},
   "outputs": [],
   "source": [
    "def make_all_preprocessing():\n",
    "    data = f.pd.read_csv(\"./database.csv\", usecols=[\"Synopsis\"])\n",
    "    dic = f.collections.defaultdict(list)\n",
    "    \n",
    "    for index, synops in f.tqdm(enumerate(data[\"Synopsis\"].array)):\n",
    "        if(isinstance(synops, str)):\n",
    "            for word in preprocessing(synops):\n",
    "                dic[word].append(str(index+1))\n",
    "    \n",
    "    with open(\"./words.txt\", \"w\") as file:\n",
    "        for key in f.tqdm(dic):\n",
    "            file.write(key + \":\" + \",\".join(dic[key]))\n",
    "            file.write(\"\\n\")\n"
   ]
  },
  {
   "cell_type": "code",
   "execution_count": 95,
   "id": "41246877-d452-463d-a876-6ce6f0bc3449",
   "metadata": {},
   "outputs": [
    {
     "name": "stderr",
     "output_type": "stream",
     "text": [
      "19128it [00:14, 1316.59it/s]\n",
      "100%|██████████| 35258/35258 [00:00<00:00, 612057.03it/s]\n"
     ]
    }
   ],
   "source": [
    "make_all_preprocessing()"
   ]
  },
  {
   "cell_type": "code",
   "execution_count": 86,
   "id": "e6e7ae39-cb63-4715-82d5-985f05c3a9cd",
   "metadata": {},
   "outputs": [],
   "source": []
  },
  {
   "cell_type": "code",
   "execution_count": 87,
   "id": "984d7c8a-1e4a-4b8e-9bdf-474b73d23217",
   "metadata": {},
   "outputs": [
    {
     "name": "stdout",
     "output_type": "stream",
     "text": [
      "1,2,3,4\n"
     ]
    }
   ],
   "source": []
  },
  {
   "cell_type": "markdown",
   "id": "b384c220-5f39-4bb1-8362-5a8f6e3ff752",
   "metadata": {},
   "source": [
    "# ALTRO ===================================================\n"
   ]
  },
  {
   "cell_type": "code",
   "execution_count": null,
   "id": "b851c942-9498-4180-b042-6145f58dc19f",
   "metadata": {},
   "outputs": [],
   "source": [
    "date = f.pd.read_csv('./database.csv', parse_dates=[\"Aired\"], date_parser=f.str_to_datetime)[\"Aired\"]"
   ]
  },
  {
   "cell_type": "code",
   "execution_count": 2,
   "id": "beb5a0ec-476e-4bd9-8a21-2e564c870e6d",
   "metadata": {},
   "outputs": [],
   "source": [
    "date = f.pd.read_csv('./database.csv')['Aired']"
   ]
  },
  {
   "cell_type": "code",
   "execution_count": null,
   "id": "ace036d1-6256-40a1-bb3c-e49c50f20d1a",
   "metadata": {},
   "outputs": [],
   "source": [
    "with open('./dateTime.txt', 'w') as file:\n",
    "    for d in date:\n",
    "        file.write(str(f.str_to_datetime(d)))\n",
    "        file.write('\\n')"
   ]
  },
  {
   "cell_type": "code",
   "execution_count": null,
   "id": "1d901eb8-bd76-4fdd-8004-549ded370e96",
   "metadata": {},
   "outputs": [],
   "source": []
  },
  {
   "cell_type": "code",
   "execution_count": 14,
   "id": "56291fd1-d3ac-4500-9da2-2700e39a72e2",
   "metadata": {},
   "outputs": [],
   "source": [
    "import nltk"
   ]
  }
 ],
 "metadata": {
  "kernelspec": {
   "display_name": "Python 3",
   "language": "python",
   "name": "python3"
  },
  "language_info": {
   "codemirror_mode": {
    "name": "ipython",
    "version": 3
   },
   "file_extension": ".py",
   "mimetype": "text/x-python",
   "name": "python",
   "nbconvert_exporter": "python",
   "pygments_lexer": "ipython3",
   "version": "3.8.8"
  }
 },
 "nbformat": 4,
 "nbformat_minor": 5
}
