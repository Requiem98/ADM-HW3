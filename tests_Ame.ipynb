{
 "cells": [
  {
   "cell_type": "code",
   "execution_count": 1,
   "id": "f01123dd-afc7-4ec3-95a3-0cb2086a976b",
   "metadata": {},
   "outputs": [],
   "source": [
    "import functions as f\n",
    "import bs4 as bs\n",
    "import re"
   ]
  },
  {
   "cell_type": "markdown",
   "id": "4a194eca-a589-4835-bd3b-6548f81144ba",
   "metadata": {},
   "source": [
    "# =======================================\n",
    "\n",
    "Da fare:\n",
    "\n",
    " - Funzione parsing dates"
   ]
  },
  {
   "cell_type": "code",
   "execution_count": null,
   "id": "4d54402d-5ca5-405a-8ed1-15441b424673",
   "metadata": {},
   "outputs": [],
   "source": []
  },
  {
   "cell_type": "code",
   "execution_count": null,
   "id": "37355c88-dba3-4b61-b8fa-07bf586f1a3c",
   "metadata": {},
   "outputs": [],
   "source": []
  },
  {
   "cell_type": "markdown",
   "id": "b384c220-5f39-4bb1-8362-5a8f6e3ff752",
   "metadata": {},
   "source": [
    "# ALTRO ===================================================\n"
   ]
  },
  {
   "cell_type": "code",
   "execution_count": null,
   "id": "b851c942-9498-4180-b042-6145f58dc19f",
   "metadata": {},
   "outputs": [],
   "source": [
    "date = f.pd.read_csv('./database.csv', parse_dates=[\"Aired\"], date_parser=f.str_to_datetime)[\"Aired\"]"
   ]
  },
  {
   "cell_type": "code",
   "execution_count": null,
   "id": "beb5a0ec-476e-4bd9-8a21-2e564c870e6d",
   "metadata": {},
   "outputs": [],
   "source": [
    "date = f.pd.read_csv('./dataset.csv', )"
   ]
  },
  {
   "cell_type": "code",
   "execution_count": 2,
   "id": "ace036d1-6256-40a1-bb3c-e49c50f20d1a",
   "metadata": {},
   "outputs": [
    {
     "ename": "NameError",
     "evalue": "name 'date' is not defined",
     "output_type": "error",
     "traceback": [
      "\u001b[0;31m---------------------------------------------------------------------------\u001b[0m",
      "\u001b[0;31mNameError\u001b[0m                                 Traceback (most recent call last)",
      "\u001b[0;32m<ipython-input-2-8f408bbfa4f0>\u001b[0m in \u001b[0;36m<module>\u001b[0;34m\u001b[0m\n\u001b[1;32m      1\u001b[0m \u001b[0;32mwith\u001b[0m \u001b[0mopen\u001b[0m\u001b[0;34m(\u001b[0m\u001b[0;34m'./dateTime.txt'\u001b[0m\u001b[0;34m,\u001b[0m \u001b[0;34m'w'\u001b[0m\u001b[0;34m)\u001b[0m \u001b[0;32mas\u001b[0m \u001b[0mfile\u001b[0m\u001b[0;34m:\u001b[0m\u001b[0;34m\u001b[0m\u001b[0;34m\u001b[0m\u001b[0m\n\u001b[0;32m----> 2\u001b[0;31m     \u001b[0;32mfor\u001b[0m \u001b[0md\u001b[0m \u001b[0;32min\u001b[0m \u001b[0mdate\u001b[0m\u001b[0;34m:\u001b[0m\u001b[0;34m\u001b[0m\u001b[0;34m\u001b[0m\u001b[0m\n\u001b[0m\u001b[1;32m      3\u001b[0m         \u001b[0mfile\u001b[0m\u001b[0;34m.\u001b[0m\u001b[0mwrite\u001b[0m\u001b[0;34m(\u001b[0m\u001b[0mstr\u001b[0m\u001b[0;34m(\u001b[0m\u001b[0mf\u001b[0m\u001b[0;34m.\u001b[0m\u001b[0mstr_to_datetime\u001b[0m\u001b[0;34m(\u001b[0m\u001b[0md\u001b[0m\u001b[0;34m)\u001b[0m\u001b[0;34m)\u001b[0m\u001b[0;34m)\u001b[0m\u001b[0;34m\u001b[0m\u001b[0;34m\u001b[0m\u001b[0m\n\u001b[1;32m      4\u001b[0m         \u001b[0mfile\u001b[0m\u001b[0;34m.\u001b[0m\u001b[0mwrite\u001b[0m\u001b[0;34m(\u001b[0m\u001b[0;34m'\\n'\u001b[0m\u001b[0;34m)\u001b[0m\u001b[0;34m\u001b[0m\u001b[0;34m\u001b[0m\u001b[0m\n",
      "\u001b[0;31mNameError\u001b[0m: name 'date' is not defined"
     ]
    }
   ],
   "source": [
    "with open('./dateTime.txt', 'w') as file:\n",
    "    for d in date:\n",
    "        file.write(str(f.str_to_datetime(d)))\n",
    "        file.write('\\n')"
   ]
  }
 ],
 "metadata": {
  "kernelspec": {
   "display_name": "Python 3",
   "language": "python",
   "name": "python3"
  },
  "language_info": {
   "codemirror_mode": {
    "name": "ipython",
    "version": 3
   },
   "file_extension": ".py",
   "mimetype": "text/x-python",
   "name": "python",
   "nbconvert_exporter": "python",
   "pygments_lexer": "ipython3",
   "version": "3.8.8"
  }
 },
 "nbformat": 4,
 "nbformat_minor": 5
}
