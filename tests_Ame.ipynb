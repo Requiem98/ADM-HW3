{
 "cells": [
  {
   "cell_type": "code",
   "execution_count": 1,
   "id": "f01123dd-afc7-4ec3-95a3-0cb2086a976b",
   "metadata": {},
   "outputs": [],
   "source": [
    "import functions as f\n",
    "import bs4 as bs\n",
    "import re"
   ]
  },
  {
   "cell_type": "markdown",
   "id": "4a194eca-a589-4835-bd3b-6548f81144ba",
   "metadata": {},
   "source": [
    "# =======================================\n",
    "\n",
    "Da fare:\n",
    "\n",
    " - Funzione parsing dates"
   ]
  },
  {
   "cell_type": "code",
   "execution_count": 2,
   "id": "84736dca-f13b-42c7-8f37-85f0a0fbea4e",
   "metadata": {},
   "outputs": [],
   "source": [
    "string = \"alchem:1,1321,2265,6441\""
   ]
  },
  {
   "cell_type": "code",
   "execution_count": 7,
   "id": "94cb9fc1-d68c-458f-af73-78e78bbab3ad",
   "metadata": {},
   "outputs": [],
   "source": [
    "def read_dict(path = \"./inverted_index.txt\"):\n",
    "    \n",
    "    dic = dict()\n",
    "    \n",
    "    with open(path, \"r\") as file:\n",
    "        lines = file.read().splitlines()\n",
    "        for line in lines:\n",
    "            key = line.split(\":\")[0]\n",
    "            values = line.split(\":\")[1].split(\",\")\n",
    "            dic[key] = values\n",
    "\n",
    "    return dic"
   ]
  },
  {
   "cell_type": "code",
   "execution_count": 8,
   "id": "6b22effc-f530-4dd8-b91a-e7b6fb900e94",
   "metadata": {},
   "outputs": [],
   "source": [
    "dic = read_dict()"
   ]
  },
  {
   "cell_type": "code",
   "execution_count": 10,
   "id": "b3cc219d-6204-484d-8ae1-4edb5852e48f",
   "metadata": {},
   "outputs": [],
   "source": [
    "data = f.pd.read_csv(\"./database.csv\")"
   ]
  },
  {
   "cell_type": "code",
   "execution_count": 12,
   "id": "ef781755-33e1-487c-ad6c-904958817e0e",
   "metadata": {},
   "outputs": [
    {
     "data": {
      "text/html": [
       "<div>\n",
       "<style scoped>\n",
       "    .dataframe tbody tr th:only-of-type {\n",
       "        vertical-align: middle;\n",
       "    }\n",
       "\n",
       "    .dataframe tbody tr th {\n",
       "        vertical-align: top;\n",
       "    }\n",
       "\n",
       "    .dataframe thead th {\n",
       "        text-align: right;\n",
       "    }\n",
       "</style>\n",
       "<table border=\"1\" class=\"dataframe\">\n",
       "  <thead>\n",
       "    <tr style=\"text-align: right;\">\n",
       "      <th></th>\n",
       "      <th>Unnamed: 0</th>\n",
       "      <th>Type</th>\n",
       "      <th>Episodes</th>\n",
       "      <th>Aired</th>\n",
       "      <th>Members</th>\n",
       "      <th>Users</th>\n",
       "      <th>Score</th>\n",
       "      <th>Ranked</th>\n",
       "      <th>Popularity</th>\n",
       "      <th>Name</th>\n",
       "      <th>Synopsis</th>\n",
       "      <th>Related_Anime</th>\n",
       "      <th>Characters</th>\n",
       "      <th>Voices</th>\n",
       "      <th>Staffs</th>\n",
       "      <th>Roles</th>\n",
       "    </tr>\n",
       "  </thead>\n",
       "  <tbody>\n",
       "    <tr>\n",
       "      <th>9839</th>\n",
       "      <td>9839</td>\n",
       "      <td>Movie</td>\n",
       "      <td>1.0</td>\n",
       "      <td>1930</td>\n",
       "      <td>338</td>\n",
       "      <td>170.0</td>\n",
       "      <td>5.671</td>\n",
       "      <td>9840.0</td>\n",
       "      <td>14184</td>\n",
       "      <td>Roba</td>\n",
       "      <td>A man and his young son travel through the cou...</td>\n",
       "      <td>NaN</td>\n",
       "      <td>NaN</td>\n",
       "      <td>NaN</td>\n",
       "      <td>NaN</td>\n",
       "      <td>NaN</td>\n",
       "    </tr>\n",
       "  </tbody>\n",
       "</table>\n",
       "</div>"
      ],
      "text/plain": [
       "      Unnamed: 0   Type  Episodes Aired  Members  Users  Score  Ranked  \\\n",
       "9839        9839  Movie       1.0  1930      338  170.0  5.671  9840.0   \n",
       "\n",
       "      Popularity  Name                                           Synopsis  \\\n",
       "9839       14184  Roba  A man and his young son travel through the cou...   \n",
       "\n",
       "     Related_Anime Characters Voices Staffs Roles  \n",
       "9839           NaN        NaN    NaN    NaN   NaN  "
      ]
     },
     "execution_count": 12,
     "metadata": {},
     "output_type": "execute_result"
    }
   ],
   "source": [
    "data[(data[\"Aired\"] == \"1930\")]"
   ]
  },
  {
   "cell_type": "code",
   "execution_count": 13,
   "id": "01211890-c1ad-458c-9b4c-26b16860de01",
   "metadata": {},
   "outputs": [
    {
     "data": {
      "text/plain": [
       "196"
      ]
     },
     "execution_count": 13,
     "metadata": {},
     "output_type": "execute_result"
    }
   ],
   "source": [
    "9839//50\n"
   ]
  },
  {
   "cell_type": "markdown",
   "id": "b384c220-5f39-4bb1-8362-5a8f6e3ff752",
   "metadata": {},
   "source": [
    "# ALTRO ===================================================\n"
   ]
  },
  {
   "cell_type": "code",
   "execution_count": null,
   "id": "b851c942-9498-4180-b042-6145f58dc19f",
   "metadata": {},
   "outputs": [],
   "source": [
    "date = f.pd.read_csv('./database.csv', parse_dates=[\"Aired\"], date_parser=f.str_to_datetime)[\"Aired\"]"
   ]
  },
  {
   "cell_type": "code",
   "execution_count": 2,
   "id": "beb5a0ec-476e-4bd9-8a21-2e564c870e6d",
   "metadata": {},
   "outputs": [],
   "source": [
    "date = f.pd.read_csv('./database.csv')['Aired']"
   ]
  },
  {
   "cell_type": "code",
   "execution_count": null,
   "id": "ace036d1-6256-40a1-bb3c-e49c50f20d1a",
   "metadata": {},
   "outputs": [],
   "source": [
    "with open('./dateTime.txt', 'w') as file:\n",
    "    for d in date:\n",
    "        file.write(str(f.str_to_datetime(d)))\n",
    "        file.write('\\n')"
   ]
  },
  {
   "cell_type": "code",
   "execution_count": null,
   "id": "1d901eb8-bd76-4fdd-8004-549ded370e96",
   "metadata": {},
   "outputs": [],
   "source": []
  },
  {
   "cell_type": "code",
   "execution_count": 14,
   "id": "56291fd1-d3ac-4500-9da2-2700e39a72e2",
   "metadata": {},
   "outputs": [],
   "source": [
    "import nltk"
   ]
  }
 ],
 "metadata": {
  "kernelspec": {
   "display_name": "Python 3",
   "language": "python",
   "name": "python3"
  },
  "language_info": {
   "codemirror_mode": {
    "name": "ipython",
    "version": 3
   },
   "file_extension": ".py",
   "mimetype": "text/x-python",
   "name": "python",
   "nbconvert_exporter": "python",
   "pygments_lexer": "ipython3",
   "version": "3.8.8"
  }
 },
 "nbformat": 4,
 "nbformat_minor": 5
}
