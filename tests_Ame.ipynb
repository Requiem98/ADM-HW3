{
 "cells": [
  {
   "cell_type": "code",
   "execution_count": 1,
   "id": "f01123dd-afc7-4ec3-95a3-0cb2086a976b",
   "metadata": {},
   "outputs": [],
   "source": [
    "import functions as f\n",
    "import bs4 as bs\n",
    "import re"
   ]
  },
  {
   "cell_type": "markdown",
   "id": "4a194eca-a589-4835-bd3b-6548f81144ba",
   "metadata": {},
   "source": [
    "# =======================================\n",
    "\n",
    "Da fare:\n",
    "\n",
    " - Invertire ordine dizionario\n",
    " - Creare funzione multithread per creare file\n",
    " - Funzione parsing dates"
   ]
  },
  {
   "cell_type": "code",
   "execution_count": 2,
   "id": "04d40af8-0020-4098-b4dc-66f808feafe0",
   "metadata": {},
   "outputs": [
    {
     "data": {
      "text/plain": [
       "OrderedDict([('Type', 'TV'),\n",
       "             ('Episodes', 64),\n",
       "             ('Aired', 'Apr 5, 2009 to Jul 4, 2010'),\n",
       "             ('Members', 2678658),\n",
       "             ('Users', 1629051),\n",
       "             ('Score', 9.161),\n",
       "             ('Ranked', 1),\n",
       "             ('Popularity', 3),\n",
       "             ('Name', 'Fullmetal Alchemist: Brotherhood'),\n",
       "             ('Synopsis',\n",
       "              'After a horrific alchemy experiment goes wrong in the Elric household, brothers Edward and Alphonse are left in a catastrophic new reality. Ignoring the alchemical principle banning human transmutation, the boys attempted to bring their recently deceased mother back to life. Instead, they suffered brutal personal loss: Alphonse\\'s body disintegrated while Edward lost a leg and then sacrificed an arm to keep Alphonse\\'s soul in the physical realm by binding it to a hulking suit of armor.  The brothers are rescued by their neighbor Pinako Rockbell and her granddaughter Winry. Known as a bio-mechanical engineering prodigy, Winry creates prosthetic limbs for Edward by utilizing \"automail,\" a tough, versatile metal used in robots and combat armor. After years of training, the Elric brothers set off on a quest to restore their bodies by locating the Philosopher\\'s Stone—a powerful gem that allows an alchemist to defy the traditional laws of Equivalent Exchange.  As Edward becomes an infamous alchemist and gains the nickname \"Fullmetal,\" the boys\\' journey embroils them in a growing conspiracy that threatens the fate of the world.  [Written by MAL Rewrite]'),\n",
       "             ('Related_Anime',\n",
       "              ['Fullmetal Alchemist',\n",
       "               'Fullmetal Alchemist: The Sacred Star of Milos',\n",
       "               'Fullmetal Alchemist: Brotherhood - 4-Koma Theater',\n",
       "               'Fullmetal Alchemist: Brotherhood Specials']),\n",
       "             ('Characters',\n",
       "              ['Elric, Edward',\n",
       "               'Elric, Alphonse',\n",
       "               'Mustang, Roy',\n",
       "               'Hughes, Maes',\n",
       "               'Greed',\n",
       "               'Hawkeye, Riza',\n",
       "               'Yao, Ling',\n",
       "               'Armstrong, Alex Louis',\n",
       "               'Rockbell, Winry',\n",
       "               'Armstrong, Olivier Mira']),\n",
       "             ('Voices',\n",
       "              ['Park, Romi',\n",
       "               'Kugimiya, Rie',\n",
       "               'Miki, Shinichiro',\n",
       "               'Fujiwara, Keiji',\n",
       "               'Nakamura, Yuuichi',\n",
       "               'Orikasa, Fumiko',\n",
       "               'Miyano, Mamoru',\n",
       "               'Utsumi, Kenji',\n",
       "               'Takamoto, Megumi',\n",
       "               'Soumi, Youko']),\n",
       "             ('Staffs',\n",
       "              ['Cook, Justin',\n",
       "               'Yonai, Noritomo',\n",
       "               'Irie, Yasuhiro',\n",
       "               'Mima, Masafumi']),\n",
       "             ('Roles',\n",
       "              ['Producer',\n",
       "               'Producer',\n",
       "               'Director, Episode Director, Storyboard',\n",
       "               'Sound Director'])])"
      ]
     },
     "execution_count": 2,
     "metadata": {},
     "output_type": "execute_result"
    }
   ],
   "source": [
    "f.getDataFromPage(\"./animeList_pages/1th_page/article_1.html\")"
   ]
  },
  {
   "cell_type": "code",
   "execution_count": 3,
   "id": "4ea4e6e7-ac4d-49f8-a294-19dbaffa6b4b",
   "metadata": {},
   "outputs": [],
   "source": [
    "f.write_anime_tsv(\"./animeList_pages/1th_page/article_1.html\")"
   ]
  }
 ],
 "metadata": {
  "kernelspec": {
   "display_name": "Python 3",
   "language": "python",
   "name": "python3"
  },
  "language_info": {
   "codemirror_mode": {
    "name": "ipython",
    "version": 3
   },
   "file_extension": ".py",
   "mimetype": "text/x-python",
   "name": "python",
   "nbconvert_exporter": "python",
   "pygments_lexer": "ipython3",
   "version": "3.8.8"
  }
 },
 "nbformat": 4,
 "nbformat_minor": 5
}
