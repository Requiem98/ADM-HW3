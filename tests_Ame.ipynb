{
 "cells": [
  {
   "cell_type": "code",
   "execution_count": 2,
   "id": "f01123dd-afc7-4ec3-95a3-0cb2086a976b",
   "metadata": {},
   "outputs": [],
   "source": [
    "import functions as f"
   ]
  },
  {
   "cell_type": "code",
   "execution_count": null,
   "id": "6975d63f-ad62-4b04-aef7-f63576e36a1b",
   "metadata": {},
   "outputs": [],
   "source": [
    "pages = f.initGet()"
   ]
  },
  {
   "cell_type": "code",
   "execution_count": null,
   "id": "2800d141-6e45-4916-a41c-16a7b0008572",
   "metadata": {},
   "outputs": [],
   "source": [
    "f.getAnime(pages, start=326)"
   ]
  },
  {
   "cell_type": "code",
   "execution_count": null,
   "id": "aced628b-bbee-4d56-bde8-6d825a564f69",
   "metadata": {},
   "outputs": [],
   "source": [
    "f.initialize_file_for_search_engine()"
   ]
  },
  {
   "cell_type": "code",
   "execution_count": null,
   "id": "0feb222a-44ce-42fa-973b-a2655a72b221",
   "metadata": {},
   "outputs": [],
   "source": [
    "f.search()"
   ]
  },
  {
   "cell_type": "code",
   "execution_count": null,
   "id": "99e075fa-bcff-4268-b78a-5ec2f6fa7adf",
   "metadata": {},
   "outputs": [],
   "source": [
    "f.search_2()"
   ]
  },
  {
   "cell_type": "code",
   "execution_count": null,
   "id": "312f6986-5d2c-4094-a95f-743131ef4e09",
   "metadata": {},
   "outputs": [],
   "source": [
    "f.search_3()"
   ]
  },
  {
   "cell_type": "markdown",
   "id": "f1b50d41-2a21-42c0-8526-425b4846b755",
   "metadata": {},
   "source": [
    " - considerare la popolarità\n",
    " - se il termine appare nel titolo\n",
    " "
   ]
  },
  {
   "cell_type": "markdown",
   "id": "4a194eca-a589-4835-bd3b-6548f81144ba",
   "metadata": {},
   "source": [
    "# =======================================\n"
   ]
  },
  {
   "cell_type": "markdown",
   "id": "b384c220-5f39-4bb1-8362-5a8f6e3ff752",
   "metadata": {},
   "source": [
    "# ALTRO ===================================================\n"
   ]
  }
 ],
 "metadata": {
  "kernelspec": {
   "display_name": "Python 3",
   "language": "python",
   "name": "python3"
  },
  "language_info": {
   "codemirror_mode": {
    "name": "ipython",
    "version": 3
   },
   "file_extension": ".py",
   "mimetype": "text/x-python",
   "name": "python",
   "nbconvert_exporter": "python",
   "pygments_lexer": "ipython3",
   "version": "3.8.8"
  }
 },
 "nbformat": 4,
 "nbformat_minor": 5
}
