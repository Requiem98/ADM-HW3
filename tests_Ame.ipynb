{
 "cells": [
  {
   "cell_type": "code",
   "execution_count": 1,
   "id": "f01123dd-afc7-4ec3-95a3-0cb2086a976b",
   "metadata": {},
   "outputs": [],
   "source": [
    "import functions as f\n",
    "import bs4 as bs\n",
    "import re"
   ]
  },
  {
   "cell_type": "markdown",
   "id": "4a194eca-a589-4835-bd3b-6548f81144ba",
   "metadata": {},
   "source": [
    "# ======================================="
   ]
  },
  {
   "cell_type": "code",
   "execution_count": 3,
   "id": "98c6e513-b2ad-4e68-b96b-464cdb15e2d2",
   "metadata": {},
   "outputs": [],
   "source": [
    "def findUsers(string):\n",
    "    string = string.split()[3].split(\",\")\n",
    "    \n",
    "    if(len(string) < 2):\n",
    "        string[0] = string[0][:len(string[0])//2]\n",
    "        \n",
    "    if(len(string) == 2):\n",
    "        temp = string[0].replace(string[1], \"\")\n",
    "        temp = temp[:len(temp)//2]\n",
    "        string.insert(0,temp)\n",
    "        string.pop(1)\n",
    "       \n",
    "    \n",
    "    if(len(string) == 3):\n",
    "        temp = string[0].replace(string[1]+string[2], \"\")\n",
    "        temp = temp[:len(temp)//2]\n",
    "        string.insert(0,temp)\n",
    "        string.pop(1)\n",
    "        \n",
    "    users_string = \"\".join(string)\n",
    "    users_integer = int(users_string)\n",
    "        \n",
    "    return users_integer"
   ]
  },
  {
   "cell_type": "code",
   "execution_count": 54,
   "id": "873507ef-920c-4f3f-897e-ad5259090127",
   "metadata": {},
   "outputs": [],
   "source": [
    "with open(\"./animeList_pages/1th_page/article_1.html\", \"r\") as file:\n",
    "    soup = f.BeautifulSoup(file, \"html.parser\")\n",
    "    \n",
    "temp = soup.find_all(\"div\", {\"class\": \"spaceit_pad\"}) \n",
    "\n",
    "out=[]\n",
    "tempDict = dict()\n",
    "finalDict = dict()\n",
    "\n",
    "for i in temp:\n",
    "    out.append(i.text)\n",
    "\n",
    "for i in range(0, len(out)):\n",
    "    out[i] = out[i].strip()\n",
    "    out[i] = out[i].strip(\"\\n\")\n",
    "    out[i] = out[i].replace(\"\\n\", \" \")\n",
    "\n",
    "\n",
    "\n",
    "for i in out:\n",
    "    index = i.find(\":\")\n",
    "    tempDict[i[:index]] = i[index+1:].strip()\n",
    "\n",
    "\n",
    "finalDict[\"Type\"] = tempDict[\"Type\"]#Anime Type\n",
    "finalDict[\"Episodes\"] = int(tempDict[\"Episodes\"]) #number of episodes\n",
    "finalDict[\"Aired\"]  = tempDict[\"Aired\"]#releasedDate and endDate\n",
    "finalDict[\"Members\"] = int(tempDict[\"Members\"].replace(\",\", \"\")) #members\n",
    "finalDict[\"Users\"] = findUsers(tempDict[\"Score\"])# Users\n",
    "finalDict[\"Score\"] =  float(tempDict[\"Score\"].split()[0])#Score\n",
    "finalDict[\"Ranked\"] = int(tempDict[\"Ranked\"].split()[0].strip(\"#\")[:-1])  #Rank\n",
    "finalDict[\"Popularity\"] = int(tempDict[\"Popularity\"].strip(\"#\")) #Popularity\n",
    "#Characters\n",
    "#Voices\n",
    "#Staff\n",
    "\n",
    "#ADDING THE NAME\n",
    "temp = soup.find(\"strong\") \n",
    "\n",
    "finalDict[\"Name\"] = temp.text\n",
    "\n",
    "#ADDING THE SYNOPSIS\n",
    "temp = soup.find(\"p\", itemprop=\"description\")\n",
    "\n",
    "finalDict[\"Synopsis\"] = temp.text.replace(\"\\n\", \" \")\n",
    "\n",
    "#ADDING THE RELATED ANIME\n",
    "temp = soup.find(\"table\", class_=\"anime_detail_related_anime\", style=\"border-spacing:0px;\")\n",
    "temp = temp.find_all(\"a\")\n",
    "\n",
    "yt = set()\n",
    "\n",
    "for t in temp:\n",
    "    yt.add(t.text)\n",
    "\n",
    "finalDict[\"Related_Anime\"] = list(yt)"
   ]
  },
  {
   "cell_type": "code",
   "execution_count": 55,
   "id": "04d40af8-0020-4098-b4dc-66f808feafe0",
   "metadata": {},
   "outputs": [
    {
     "data": {
      "text/plain": [
       "{'Type': 'TV',\n",
       " 'Episodes': 64,\n",
       " 'Aired': 'Apr 5, 2009 to Jul 4, 2010',\n",
       " 'Members': 2674962,\n",
       " 'Users': 1622384,\n",
       " 'Score': 9.161,\n",
       " 'Ranked': 1,\n",
       " 'Popularity': 3,\n",
       " 'Name': 'Fullmetal Alchemist: Brotherhood',\n",
       " 'Synopsis': 'After a horrific alchemy experiment goes wrong in the Elric household, brothers Edward and Alphonse are left in a catastrophic new reality. Ignoring the alchemical principle banning human transmutation, the boys attempted to bring their recently deceased mother back to life. Instead, they suffered brutal personal loss: Alphonse\\'s body disintegrated while Edward lost a leg and then sacrificed an arm to keep Alphonse\\'s soul in the physical realm by binding it to a hulking suit of armor.  The brothers are rescued by their neighbor Pinako Rockbell and her granddaughter Winry. Known as a bio-mechanical engineering prodigy, Winry creates prosthetic limbs for Edward by utilizing \"automail,\" a tough, versatile metal used in robots and combat armor. After years of training, the Elric brothers set off on a quest to restore their bodies by locating the Philosopher\\'s Stone—a powerful gem that allows an alchemist to defy the traditional laws of Equivalent Exchange.  As Edward becomes an infamous alchemist and gains the nickname \"Fullmetal,\" the boys\\' journey embroils them in a growing conspiracy that threatens the fate of the world.  [Written by MAL Rewrite]',\n",
       " 'Related_Anime': ['Fullmetal Alchemist: Brotherhood Specials',\n",
       "  'Fullmetal Alchemist',\n",
       "  'Fullmetal Alchemist: The Sacred Star of Milos',\n",
       "  'Fullmetal Alchemist: Brotherhood - 4-Koma Theater']}"
      ]
     },
     "execution_count": 55,
     "metadata": {},
     "output_type": "execute_result"
    }
   ],
   "source": [
    "finalDict"
   ]
  }
 ],
 "metadata": {
  "kernelspec": {
   "display_name": "Python 3",
   "language": "python",
   "name": "python3"
  },
  "language_info": {
   "codemirror_mode": {
    "name": "ipython",
    "version": 3
   },
   "file_extension": ".py",
   "mimetype": "text/x-python",
   "name": "python",
   "nbconvert_exporter": "python",
   "pygments_lexer": "ipython3",
   "version": "3.8.8"
  }
 },
 "nbformat": 4,
 "nbformat_minor": 5
}
