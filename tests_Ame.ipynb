{
 "cells": [
  {
   "cell_type": "code",
   "execution_count": 1,
   "id": "f01123dd-afc7-4ec3-95a3-0cb2086a976b",
   "metadata": {},
   "outputs": [],
   "source": [
    "import functions as f"
   ]
  },
  {
   "cell_type": "code",
   "execution_count": 2,
   "id": "6975d63f-ad62-4b04-aef7-f63576e36a1b",
   "metadata": {},
   "outputs": [
    {
     "name": "stderr",
     "output_type": "stream",
     "text": [
      "100%|██████████| 400/400 [00:00<00:00, 61108.05it/s]\n"
     ]
    }
   ],
   "source": [
    "pages = f.initGet()"
   ]
  },
  {
   "cell_type": "code",
   "execution_count": null,
   "id": "2800d141-6e45-4916-a41c-16a7b0008572",
   "metadata": {},
   "outputs": [],
   "source": [
    "f.getAnime(pages, start=0)"
   ]
  },
  {
   "cell_type": "markdown",
   "id": "4a194eca-a589-4835-bd3b-6548f81144ba",
   "metadata": {},
   "source": [
    "# =======================================\n",
    "\n",
    "Da fare:\n",
    "\n",
    " - Funzione parsing dates"
   ]
  },
  {
   "cell_type": "code",
   "execution_count": null,
   "id": "4d54402d-5ca5-405a-8ed1-15441b424673",
   "metadata": {},
   "outputs": [],
   "source": []
  },
  {
   "cell_type": "code",
   "execution_count": null,
   "id": "37355c88-dba3-4b61-b8fa-07bf586f1a3c",
   "metadata": {},
   "outputs": [],
   "source": []
  },
  {
   "cell_type": "markdown",
   "id": "b384c220-5f39-4bb1-8362-5a8f6e3ff752",
   "metadata": {},
   "source": [
    "# ALTRO ===================================================\n"
   ]
  },
  {
   "cell_type": "code",
   "execution_count": null,
   "id": "b851c942-9498-4180-b042-6145f58dc19f",
   "metadata": {},
   "outputs": [],
   "source": [
    "#date = f.pd.read_csv('./database.csv', parse_dates=[\"Aired\"], date_parser=f.str_to_datetime)[\"Aired\"]"
   ]
  },
  {
   "cell_type": "code",
   "execution_count": 7,
   "id": "beb5a0ec-476e-4bd9-8a21-2e564c870e6d",
   "metadata": {},
   "outputs": [],
   "source": [
    "#TEST FUNZIONE STR_TO_DATETIME\n",
    "\n",
    "date = f.pd.read_csv('./dataset.csv', usecols=[\"Aired\"])[\"Aired\"].array\n",
    "\n",
    "with open('./dateTime.txt', 'w') as file:\n",
    "    for d in date:\n",
    "        file.write(str(f.str_to_datetime(d)))\n",
    "        file.write('\\n')"
   ]
  },
  {
   "cell_type": "code",
   "execution_count": 9,
   "id": "3940789f-2bb1-4f78-b287-09d1e3e8a471",
   "metadata": {},
   "outputs": [
    {
     "data": {
      "text/plain": [
       "<PandasArray>\n",
       "[  'Apr 5, 2009 to Jul 4, 2010',  'Apr 8, 2015 to Mar 30, 2016',\n",
       "  'Apr 29, 2019 to Jul 1, 2019',  'Apr 6, 2011 to Sep 14, 2011',\n",
       "  'Apr 6, 2021 to Jun 29, 2021',  'Apr 4, 2011 to Mar 26, 2012',\n",
       "  'Oct 2, 2011 to Sep 24, 2014',  'Jan 8, 1988 to Mar 17, 1997',\n",
       "  'Oct 4, 2012 to Mar 28, 2013',                  'Jan 8, 2021',\n",
       " ...\n",
       "                 'Oct 29, 1969',             'Feb 4, 2022 to ?',\n",
       "                 'Sep 28, 1990',                 'Mar 26, 1999',\n",
       "                 'Mar 25, 2007',                'Not available',\n",
       " 'Nov 21, 1990 to Nov 21, 1991',                 'Jan 28, 2022',\n",
       "                 'Dec 11, 2015',                 'Nov 26, 2021']\n",
       "Length: 19128, dtype: object"
      ]
     },
     "execution_count": 9,
     "metadata": {},
     "output_type": "execute_result"
    }
   ],
   "source": [
    "date"
   ]
  }
 ],
 "metadata": {
  "kernelspec": {
   "display_name": "Python 3",
   "language": "python",
   "name": "python3"
  },
  "language_info": {
   "codemirror_mode": {
    "name": "ipython",
    "version": 3
   },
   "file_extension": ".py",
   "mimetype": "text/x-python",
   "name": "python",
   "nbconvert_exporter": "python",
   "pygments_lexer": "ipython3",
   "version": "3.8.8"
  }
 },
 "nbformat": 4,
 "nbformat_minor": 5
}
